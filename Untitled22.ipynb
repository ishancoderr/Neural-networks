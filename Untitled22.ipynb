{
  "nbformat": 4,
  "nbformat_minor": 0,
  "metadata": {
    "colab": {
      "name": "Untitled22.ipynb",
      "provenance": [],
      "authorship_tag": "ABX9TyNvOsyKMzljtDnE/DFtNnPi",
      "include_colab_link": true
    },
    "kernelspec": {
      "name": "python3",
      "display_name": "Python 3"
    },
    "language_info": {
      "name": "python"
    }
  },
  "cells": [
    {
      "cell_type": "markdown",
      "metadata": {
        "id": "view-in-github",
        "colab_type": "text"
      },
      "source": [
        "<a href=\"https://colab.research.google.com/github/ishancoderr/Neural-networks/blob/main/Untitled22.ipynb\" target=\"_parent\"><img src=\"https://colab.research.google.com/assets/colab-badge.svg\" alt=\"Open In Colab\"/></a>"
      ]
    },
    {
      "cell_type": "markdown",
      "metadata": {
        "id": "CNBHNBBeTHqa"
      },
      "source": [
        "**Implementation of a Stack**"
      ]
    },
    {
      "cell_type": "code",
      "metadata": {
        "id": "lpaC91VXTPdz"
      },
      "source": [
        "class Stack(object):\n",
        "  def __init__(self):\n",
        "    self.items=[]\n",
        "  def isEmpty(self):\n",
        "     return self.items == []\n",
        "       \n",
        "  def push(self,item):\n",
        "    self.items.append(item)\n",
        "  def pop(self):\n",
        "    return self.items.pop()\n",
        "  def peek(self):\n",
        "    return self.items[len(self.items)-1]\n",
        "  def size(self):\n",
        "    return len(self.item)\n",
        "\n"
      ],
      "execution_count": 123,
      "outputs": []
    },
    {
      "cell_type": "code",
      "metadata": {
        "id": "OCLpnzndgKv0"
      },
      "source": [
        "s=Stack()"
      ],
      "execution_count": 124,
      "outputs": []
    },
    {
      "cell_type": "code",
      "metadata": {
        "colab": {
          "base_uri": "https://localhost:8080/"
        },
        "id": "QbOdj7Jkg0T7",
        "outputId": "87fecb14-69c2-4bec-e281-c7eb763bcb0a"
      },
      "source": [
        "print(s.isEmpty)"
      ],
      "execution_count": 125,
      "outputs": [
        {
          "output_type": "stream",
          "text": [
            "<bound method Stack.isEmpty of <__main__.Stack object at 0x7fc38aca0b10>>\n"
          ],
          "name": "stdout"
        }
      ]
    },
    {
      "cell_type": "code",
      "metadata": {
        "id": "LH5rLpgbhOMU"
      },
      "source": [
        "s.push('two')"
      ],
      "execution_count": 126,
      "outputs": []
    },
    {
      "cell_type": "code",
      "metadata": {
        "colab": {
          "base_uri": "https://localhost:8080/",
          "height": 35
        },
        "id": "0NlggBh5hUQb",
        "outputId": "5e6a8d7a-43fa-4d2d-d86c-002dce6a11b7"
      },
      "source": [
        "s.peek()"
      ],
      "execution_count": 127,
      "outputs": [
        {
          "output_type": "execute_result",
          "data": {
            "application/vnd.google.colaboratory.intrinsic+json": {
              "type": "string"
            },
            "text/plain": [
              "'two'"
            ]
          },
          "metadata": {
            "tags": []
          },
          "execution_count": 127
        }
      ]
    },
    {
      "cell_type": "code",
      "metadata": {
        "colab": {
          "base_uri": "https://localhost:8080/"
        },
        "id": "c5CBcw5shYEE",
        "outputId": "7c112bce-dfc0-4d48-dfde-93290a37e48c"
      },
      "source": [
        "print(s.pop())"
      ],
      "execution_count": 128,
      "outputs": [
        {
          "output_type": "stream",
          "text": [
            "two\n"
          ],
          "name": "stdout"
        }
      ]
    },
    {
      "cell_type": "code",
      "metadata": {
        "colab": {
          "base_uri": "https://localhost:8080/"
        },
        "id": "X0vBGDEAiFgt",
        "outputId": "4ae58365-2add-4514-a44d-b1ff337a10db"
      },
      "source": [
        "print (s.isEmpty)"
      ],
      "execution_count": 129,
      "outputs": [
        {
          "output_type": "stream",
          "text": [
            "<bound method Stack.isEmpty of <__main__.Stack object at 0x7fc38aca0b10>>\n"
          ],
          "name": "stdout"
        }
      ]
    },
    {
      "cell_type": "code",
      "metadata": {
        "id": "MhFbqxaQkbdS"
      },
      "source": [
        "s.push('one')"
      ],
      "execution_count": 130,
      "outputs": []
    },
    {
      "cell_type": "code",
      "metadata": {
        "id": "AECOnqywkx86"
      },
      "source": [
        "s.push('three')"
      ],
      "execution_count": 131,
      "outputs": []
    },
    {
      "cell_type": "code",
      "metadata": {
        "colab": {
          "base_uri": "https://localhost:8080/"
        },
        "id": "THNJbX2pk4W5",
        "outputId": "0e16875d-d167-4c81-b88b-4417837c700c"
      },
      "source": [
        "print(s.pop())"
      ],
      "execution_count": 132,
      "outputs": [
        {
          "output_type": "stream",
          "text": [
            "three\n"
          ],
          "name": "stdout"
        }
      ]
    },
    {
      "cell_type": "code",
      "metadata": {
        "id": "75LzGmiL7Zop"
      },
      "source": [
        "class stackX():\n",
        "  def __init__(self):\n",
        "    self.items=[]\n",
        "  def isEmpty(self):\n",
        "     return self.items == []\n",
        "  def push(self,item):\n",
        "    return self.items.append(item)\n",
        "  def pop(self):\n",
        "    return self.items.pop()\n",
        "  def peek(self):\n",
        "    return self.items[len(self.items)-1]\n"
      ],
      "execution_count": 133,
      "outputs": []
    },
    {
      "cell_type": "code",
      "metadata": {
        "id": "QidoRm-w-9nP"
      },
      "source": [
        "s=stackX()\n",
        "s.push(100)\n",
        "s.push(300)\n",
        "s.push(450)"
      ],
      "execution_count": 134,
      "outputs": []
    },
    {
      "cell_type": "code",
      "metadata": {
        "colab": {
          "base_uri": "https://localhost:8080/"
        },
        "id": "20xlZBEUQg11",
        "outputId": "da9e2110-29c4-408c-a734-9dc75819828c"
      },
      "source": [
        "s.isEmpty()"
      ],
      "execution_count": 135,
      "outputs": [
        {
          "output_type": "execute_result",
          "data": {
            "text/plain": [
              "False"
            ]
          },
          "metadata": {
            "tags": []
          },
          "execution_count": 135
        }
      ]
    },
    {
      "cell_type": "code",
      "metadata": {
        "id": "voA6Ir13AnN2"
      },
      "source": [
        "class Queue():\n",
        "  def __init__(self):\n",
        "    self.items=[]\n",
        "  def isEmpty(self):\n",
        "     return self.items == [] \n",
        "  def enqueue(self,item):\n",
        "    self.items.insert(0,item)\n",
        "  def dequeue(self):\n",
        "    return self.items.pop()\n",
        "  def size(self):\n",
        "    return len(self.items)\n",
        "\n"
      ],
      "execution_count": 136,
      "outputs": []
    },
    {
      "cell_type": "code",
      "metadata": {
        "id": "NNQGbazQBap8"
      },
      "source": [
        "q=Queue()"
      ],
      "execution_count": 137,
      "outputs": []
    },
    {
      "cell_type": "code",
      "metadata": {
        "colab": {
          "base_uri": "https://localhost:8080/"
        },
        "id": "0qX9Yrc2iEr2",
        "outputId": "273ea4d0-2026-4e04-9af4-c3c627bed90b"
      },
      "source": [
        "q.isEmpty()"
      ],
      "execution_count": 138,
      "outputs": [
        {
          "output_type": "execute_result",
          "data": {
            "text/plain": [
              "True"
            ]
          },
          "metadata": {
            "tags": []
          },
          "execution_count": 138
        }
      ]
    },
    {
      "cell_type": "code",
      "metadata": {
        "colab": {
          "base_uri": "https://localhost:8080/"
        },
        "id": "FiRgWRNqiK2U",
        "outputId": "82191575-0ff0-4269-ee72-fd4f751d9746"
      },
      "source": [
        "q.enqueue(1)\n",
        "q.enqueue(2)\n",
        "q.enqueue(3)\n",
        "q.dequeue()"
      ],
      "execution_count": 139,
      "outputs": [
        {
          "output_type": "execute_result",
          "data": {
            "text/plain": [
              "1"
            ]
          },
          "metadata": {
            "tags": []
          },
          "execution_count": 139
        }
      ]
    },
    {
      "cell_type": "code",
      "metadata": {
        "id": "8j0-MkDYq3oN"
      },
      "source": [
        "class Deque:\n",
        "  def __init__(self):\n",
        "    self.items=[]\n",
        "  def isEmpty(self):\n",
        "     return self.items == [] \n",
        "  def addFront(self,item):\n",
        "    self.items.append(item)\n",
        "  def addRear(self,item):\n",
        "    self.items.insert(0,item)\n",
        "  def removeFront(self):\n",
        "    return self.items.pop()\n",
        "  def removeRear(self):\n",
        "    return self.items.pop(0)\n",
        "  \n"
      ],
      "execution_count": 140,
      "outputs": []
    },
    {
      "cell_type": "code",
      "metadata": {
        "colab": {
          "base_uri": "https://localhost:8080/"
        },
        "id": "qqM9rnxAtMav",
        "outputId": "c3e5e5dd-0a9d-4a9a-f6af-f4609709dbda"
      },
      "source": [
        "d=Deque()\n",
        "d.addFront(678)\n",
        "d.addRear(567889)\n",
        "d.addFront(8)\n",
        "d.addRear(56)\n",
        "d.removeFront()"
      ],
      "execution_count": 141,
      "outputs": [
        {
          "output_type": "execute_result",
          "data": {
            "text/plain": [
              "8"
            ]
          },
          "metadata": {
            "tags": []
          },
          "execution_count": 141
        }
      ]
    },
    {
      "cell_type": "code",
      "metadata": {
        "id": "YHNnzW--4Dbr"
      },
      "source": [
        "def balance_check(s):\n",
        "  if len(s)%2 != 0:\n",
        "    return False\n",
        "  opening=set('([{')\n",
        "  matches=set([('(',')'),('[',']'),('{','}')])\n",
        "\n",
        "  stack=[]\n",
        "  for paren in s:\n",
        "    if paren in opening:\n",
        "      stack.append(paren)\n",
        "    else:\n",
        "      if len(stack)==0:\n",
        "        return False\n",
        "      last_open =stack.pop()\n",
        "      if(last_open,paren) not in matches:\n",
        "        return False\n",
        "  return len(stack)==0"
      ],
      "execution_count": 142,
      "outputs": []
    },
    {
      "cell_type": "code",
      "metadata": {
        "id": "YRdhwmIreRW3"
      },
      "source": [
        ""
      ],
      "execution_count": null,
      "outputs": []
    },
    {
      "cell_type": "code",
      "metadata": {
        "colab": {
          "base_uri": "https://localhost:8080/"
        },
        "id": "o-zj5WAuRd7Q",
        "outputId": "06aefb5f-d60d-44ae-cb2f-616416578ffd"
      },
      "source": [
        "balance_check('[]')"
      ],
      "execution_count": 143,
      "outputs": [
        {
          "output_type": "execute_result",
          "data": {
            "text/plain": [
              "True"
            ]
          },
          "metadata": {
            "tags": []
          },
          "execution_count": 143
        }
      ]
    },
    {
      "cell_type": "code",
      "metadata": {
        "colab": {
          "base_uri": "https://localhost:8080/"
        },
        "id": "jlyIRuhdRuxl",
        "outputId": "cb4f5bda-0988-4d83-879a-77cd86df6e7a"
      },
      "source": [
        "balance_check('[([{{{([[[[{{()}}]]]])}}}])]')"
      ],
      "execution_count": 144,
      "outputs": [
        {
          "output_type": "execute_result",
          "data": {
            "text/plain": [
              "True"
            ]
          },
          "metadata": {
            "tags": []
          },
          "execution_count": 144
        }
      ]
    },
    {
      "cell_type": "code",
      "metadata": {
        "colab": {
          "base_uri": "https://localhost:8080/"
        },
        "id": "d-5qC3e5R850",
        "outputId": "8194c3bc-17b2-4b84-bae9-03cf6d060c8f"
      },
      "source": [
        "balance_check('[([{{([[{{()}}]]]])}}}])]')"
      ],
      "execution_count": 145,
      "outputs": [
        {
          "output_type": "execute_result",
          "data": {
            "text/plain": [
              "False"
            ]
          },
          "metadata": {
            "tags": []
          },
          "execution_count": 145
        }
      ]
    },
    {
      "cell_type": "code",
      "metadata": {
        "id": "xhBNWN-kdjfS"
      },
      "source": [
        "class make_queue:\n",
        "\n",
        "  def __init__(self):\n",
        "    self.stack1=[]\n",
        "    self.stack2=[]\n",
        "  def enqueue(self,element):\n",
        "    self.stack1.append(element)\n",
        "  def dequeue(self):\n",
        "    if not self.stack2:\n",
        "      while self.stack1:\n",
        "        self.stack2.append(self.stack1.pop())\n",
        "    return self.stack2.pop()\n",
        "\n",
        "\n",
        "\n"
      ],
      "execution_count": 146,
      "outputs": []
    },
    {
      "cell_type": "code",
      "metadata": {
        "id": "F8VfdUxp3NpE"
      },
      "source": [
        ""
      ],
      "execution_count": null,
      "outputs": []
    }
  ]
}