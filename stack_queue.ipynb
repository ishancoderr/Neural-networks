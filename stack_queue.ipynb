{
  "nbformat": 4,
  "nbformat_minor": 0,
  "metadata": {
    "colab": {
      "name": "Untitled22.ipynb",
      "provenance": [],
      "authorship_tag": "ABX9TyNvOsyKMzljtDnE/DFtNnPi",
      "include_colab_link": true
    },
    "kernelspec": {
      "name": "python3",
      "display_name": "Python 3"
    },
    "language_info": {
      "name": "python"
    }
  },
  "cells": [
    {
      "cell_type": "markdown",
      "metadata": {
        "id": "view-in-github",
        "colab_type": "text"
      },
      "source": [
        "<a href=\"https://colab.research.google.com/github/ishancoderr/Neural-networks/blob/main/stack_queue.ipynb\" target=\"_parent\"><img src=\"https://colab.research.google.com/assets/colab-badge.svg\" alt=\"Open In Colab\"/></a>"
      ]
    },
    {
      "cell_type": "markdown",
      "metadata": {
        "id": "CNBHNBBeTHqa"
      },
      "source": [
        "**Implementation of a Stack**"
      ]
    },
    {
      "cell_type": "code",
      "metadata": {
        "id": "lpaC91VXTPdz"
      },
      "source": [
        "class Stack(object):\n",
        "  def __init__(self):\n",
        "    self.items=[]\n",
        "  def isEmpty(self):\n",
        "     return self.items == []\n",
        "       \n",
        "  def push(self,item):\n",
        "    self.items.append(item)\n",
        "  def pop(self):\n",
        "    return self.items.pop()\n",
        "  def peek(self):\n",
        "    return self.items[len(self.items)-1]\n",
        "  def size(self):\n",
        "    return len(self.item)\n",
        "\n"
      ],
      "execution_count": 33,
      "outputs": []
    },
    {
      "cell_type": "code",
      "metadata": {
        "id": "OCLpnzndgKv0"
      },
      "source": [
        "s=Stack()"
      ],
      "execution_count": 34,
      "outputs": []
    },
    {
      "cell_type": "code",
      "metadata": {
        "colab": {
          "base_uri": "https://localhost:8080/"
        },
        "id": "QbOdj7Jkg0T7",
        "outputId": "cea463dd-180d-47dd-e183-3a113e399f1f"
      },
      "source": [
        "print(s.isEmpty)"
      ],
      "execution_count": 35,
      "outputs": [
        {
          "output_type": "stream",
          "text": [
            "<bound method Stack.isEmpty of <__main__.Stack object at 0x7fc38aeb34d0>>\n"
          ],
          "name": "stdout"
        }
      ]
    },
    {
      "cell_type": "code",
      "metadata": {
        "id": "LH5rLpgbhOMU"
      },
      "source": [
        "s.push('two')"
      ],
      "execution_count": 36,
      "outputs": []
    },
    {
      "cell_type": "code",
      "metadata": {
        "colab": {
          "base_uri": "https://localhost:8080/",
          "height": 35
        },
        "id": "0NlggBh5hUQb",
        "outputId": "d10ad7c0-6b90-47b4-f417-2074d22b8b4b"
      },
      "source": [
        "s.peek()"
      ],
      "execution_count": 37,
      "outputs": [
        {
          "output_type": "execute_result",
          "data": {
            "application/vnd.google.colaboratory.intrinsic+json": {
              "type": "string"
            },
            "text/plain": [
              "'two'"
            ]
          },
          "metadata": {
            "tags": []
          },
          "execution_count": 37
        }
      ]
    },
    {
      "cell_type": "code",
      "metadata": {
        "colab": {
          "base_uri": "https://localhost:8080/"
        },
        "id": "c5CBcw5shYEE",
        "outputId": "9de12ee1-18f6-4c6b-b87b-aa9bd93472b1"
      },
      "source": [
        "print(s.pop())"
      ],
      "execution_count": 38,
      "outputs": [
        {
          "output_type": "stream",
          "text": [
            "two\n"
          ],
          "name": "stdout"
        }
      ]
    },
    {
      "cell_type": "code",
      "metadata": {
        "colab": {
          "base_uri": "https://localhost:8080/"
        },
        "id": "X0vBGDEAiFgt",
        "outputId": "dfc2a6d6-a24f-491c-c92a-3a3dd089bc0e"
      },
      "source": [
        "print (s.isEmpty)"
      ],
      "execution_count": 39,
      "outputs": [
        {
          "output_type": "stream",
          "text": [
            "<bound method Stack.isEmpty of <__main__.Stack object at 0x7fc38aeb34d0>>\n"
          ],
          "name": "stdout"
        }
      ]
    },
    {
      "cell_type": "code",
      "metadata": {
        "id": "MhFbqxaQkbdS"
      },
      "source": [
        "s.push('one')"
      ],
      "execution_count": 40,
      "outputs": []
    },
    {
      "cell_type": "code",
      "metadata": {
        "id": "AECOnqywkx86"
      },
      "source": [
        "s.push('three')"
      ],
      "execution_count": 41,
      "outputs": []
    },
    {
      "cell_type": "code",
      "metadata": {
        "colab": {
          "base_uri": "https://localhost:8080/"
        },
        "id": "THNJbX2pk4W5",
        "outputId": "27dcbd52-5db7-41da-a00f-332fbfa1936f"
      },
      "source": [
        "print(s.pop())"
      ],
      "execution_count": 42,
      "outputs": [
        {
          "output_type": "stream",
          "text": [
            "three\n"
          ],
          "name": "stdout"
        }
      ]
    },
    {
      "cell_type": "code",
      "metadata": {
        "id": "75LzGmiL7Zop"
      },
      "source": [
        "class stackX():\n",
        "  def __init__(self):\n",
        "    self.items=[]\n",
        "  def isEmpty(self):\n",
        "     return self.items == []\n",
        "  def push(self,item):\n",
        "    return self.items.append(item)\n",
        "  def pop(self):\n",
        "    return self.items.pop()\n",
        "  def peek(self):\n",
        "    return self.items[len(self.items)-1]\n"
      ],
      "execution_count": 93,
      "outputs": []
    },
    {
      "cell_type": "code",
      "metadata": {
        "id": "QidoRm-w-9nP"
      },
      "source": [
        "s=stackX()\n",
        "s.push(100)\n",
        "s.push(300)\n",
        "s.push(450)"
      ],
      "execution_count": 94,
      "outputs": []
    },
    {
      "cell_type": "code",
      "metadata": {
        "colab": {
          "base_uri": "https://localhost:8080/"
        },
        "id": "20xlZBEUQg11",
        "outputId": "d6df9333-bd04-428e-b1eb-50cee87d8099"
      },
      "source": [
        "s.isEmpty()"
      ],
      "execution_count": 95,
      "outputs": [
        {
          "output_type": "execute_result",
          "data": {
            "text/plain": [
              "False"
            ]
          },
          "metadata": {
            "tags": []
          },
          "execution_count": 95
        }
      ]
    },
    {
      "cell_type": "code",
      "metadata": {
        "id": "voA6Ir13AnN2"
      },
      "source": [
        "class Queue():\n",
        "  def __init__(self):\n",
        "    self.items=[]\n",
        "  def isEmpty(self):\n",
        "     return self.items == [] \n",
        "  def enqueue(self,item):\n",
        "    self.items.insert(0,item)\n",
        "  def dequeue(self):\n",
        "    return self.items.pop()\n",
        "  def size(self):\n",
        "    return len(self.items)\n",
        "\n"
      ],
      "execution_count": 102,
      "outputs": []
    },
    {
      "cell_type": "code",
      "metadata": {
        "id": "NNQGbazQBap8"
      },
      "source": [
        "q=Queue()"
      ],
      "execution_count": 103,
      "outputs": []
    },
    {
      "cell_type": "code",
      "metadata": {
        "colab": {
          "base_uri": "https://localhost:8080/"
        },
        "id": "0qX9Yrc2iEr2",
        "outputId": "67da9dda-bb98-4f40-be7f-18b90efd0329"
      },
      "source": [
        "q.isEmpty()"
      ],
      "execution_count": 104,
      "outputs": [
        {
          "output_type": "execute_result",
          "data": {
            "text/plain": [
              "True"
            ]
          },
          "metadata": {
            "tags": []
          },
          "execution_count": 104
        }
      ]
    },
    {
      "cell_type": "code",
      "metadata": {
        "colab": {
          "base_uri": "https://localhost:8080/"
        },
        "id": "FiRgWRNqiK2U",
        "outputId": "91ec249c-8a37-4cc3-ea87-41e597806bcc"
      },
      "source": [
        "q.enqueue(1)\n",
        "q.enqueue(2)\n",
        "q.enqueue(3)\n",
        "q.dequeue()"
      ],
      "execution_count": 106,
      "outputs": [
        {
          "output_type": "execute_result",
          "data": {
            "text/plain": [
              "1"
            ]
          },
          "metadata": {
            "tags": []
          },
          "execution_count": 106
        }
      ]
    },
    {
      "cell_type": "code",
      "metadata": {
        "id": "8j0-MkDYq3oN"
      },
      "source": [
        "class Deque:\n",
        "  def __init__(self):\n",
        "    self.items=[]\n",
        "  def isEmpty(self):\n",
        "     return self.items == [] \n",
        "  def addFront(self,item):\n",
        "    self.items.append(item)\n",
        "  def addRear(self,item):\n",
        "    self.items.insert(0,item)\n",
        "  def removeFront(self):\n",
        "    return self.items.pop()\n",
        "  def removeRear(self):\n",
        "    return self.items.pop(0)\n",
        "  \n"
      ],
      "execution_count": 108,
      "outputs": []
    },
    {
      "cell_type": "code",
      "metadata": {
        "colab": {
          "base_uri": "https://localhost:8080/"
        },
        "id": "qqM9rnxAtMav",
        "outputId": "77178370-8bbf-4eea-f7d2-ba88ec2f1a2f"
      },
      "source": [
        "d=Deque()\n",
        "d.addFront(678)\n",
        "d.addRear(567889)\n",
        "d.addFront(8)\n",
        "d.addRear(56)\n",
        "d.removeFront()"
      ],
      "execution_count": 111,
      "outputs": [
        {
          "output_type": "execute_result",
          "data": {
            "text/plain": [
              "8"
            ]
          },
          "metadata": {
            "tags": []
          },
          "execution_count": 111
        }
      ]
    },
    {
      "cell_type": "code",
      "metadata": {
        "id": "YHNnzW--4Dbr"
      },
      "source": [
        "def balance_check(s):\n",
        "  if len(s)%2 != 0:\n",
        "    return False\n",
        "  opening=set('([{')\n",
        "  matches=set([('(',')'),('[',']'),('{','}')])\n",
        "\n",
        "  stack=[]\n",
        "  for paren in s:\n",
        "    if paren in opening:\n",
        "      stack.append(paren)\n",
        "    else:\n",
        "      if len(stack)==0:\n",
        "        return False\n",
        "      last_open =stack.pop()\n",
        "      if(last_open,paren) not in matches:\n",
        "        return False\n",
        "  return len(stack)==0"
      ],
      "execution_count": 114,
      "outputs": []
    },
    {
      "cell_type": "code",
      "metadata": {
        "id": "YRdhwmIreRW3"
      },
      "source": [
        ""
      ],
      "execution_count": null,
      "outputs": []
    },
    {
      "cell_type": "code",
      "metadata": {
        "colab": {
          "base_uri": "https://localhost:8080/"
        },
        "id": "o-zj5WAuRd7Q",
        "outputId": "66cc0edc-cae0-4ec2-c6b6-028eff4d0219"
      },
      "source": [
        "balance_check('[]')"
      ],
      "execution_count": 115,
      "outputs": [
        {
          "output_type": "execute_result",
          "data": {
            "text/plain": [
              "True"
            ]
          },
          "metadata": {
            "tags": []
          },
          "execution_count": 115
        }
      ]
    },
    {
      "cell_type": "code",
      "metadata": {
        "colab": {
          "base_uri": "https://localhost:8080/"
        },
        "id": "jlyIRuhdRuxl",
        "outputId": "933facab-f5d5-467d-ed15-ef26c6d94a24"
      },
      "source": [
        "balance_check('[([{{{([[[[{{()}}]]]])}}}])]')"
      ],
      "execution_count": 116,
      "outputs": [
        {
          "output_type": "execute_result",
          "data": {
            "text/plain": [
              "True"
            ]
          },
          "metadata": {
            "tags": []
          },
          "execution_count": 116
        }
      ]
    },
    {
      "cell_type": "code",
      "metadata": {
        "colab": {
          "base_uri": "https://localhost:8080/"
        },
        "id": "d-5qC3e5R850",
        "outputId": "68c4b69b-ce57-4d9d-b30a-385dc0cdc8b0"
      },
      "source": [
        "balance_check('[([{{([[{{()}}]]]])}}}])]')"
      ],
      "execution_count": 117,
      "outputs": [
        {
          "output_type": "execute_result",
          "data": {
            "text/plain": [
              "False"
            ]
          },
          "metadata": {
            "tags": []
          },
          "execution_count": 117
        }
      ]
    },
    {
      "cell_type": "code",
      "metadata": {
        "id": "xhBNWN-kdjfS"
      },
      "source": [
        "class make_queue:\n",
        "\n",
        "  def __init__(self):\n",
        "    self.stack1=[]\n",
        "    self.stack2=[]\n",
        "  def enqueue(self,element):\n",
        "    self.stack1.append(element)\n",
        "  def dequeue(self):\n",
        "    if not self.stack2:\n",
        "      while self.stack1:\n",
        "        self.stack2.append(self.stack1.pop())\n",
        "    return self.stack2.pop()\n",
        "\n",
        "\n",
        "\n"
      ],
      "execution_count": 122,
      "outputs": []
    },
    {
      "cell_type": "code",
      "metadata": {
        "id": "F8VfdUxp3NpE"
      },
      "source": [
        ""
      ],
      "execution_count": null,
      "outputs": []
    }
  ]
}