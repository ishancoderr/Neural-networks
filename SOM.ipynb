{
  "nbformat": 4,
  "nbformat_minor": 0,
  "metadata": {
    "colab": {
      "name": "Untitled15.ipynb",
      "provenance": [],
      "authorship_tag": "ABX9TyO6E5K2gqqo1qAYQHfyag2w",
      "include_colab_link": true
    },
    "kernelspec": {
      "name": "python3",
      "display_name": "Python 3"
    }
  },
  "cells": [
    {
      "cell_type": "markdown",
      "metadata": {
        "id": "view-in-github",
        "colab_type": "text"
      },
      "source": [
        "<a href=\"https://colab.research.google.com/github/ishancoderr/Neural-networks/blob/main/SOM.ipynb\" target=\"_parent\"><img src=\"https://colab.research.google.com/assets/colab-badge.svg\" alt=\"Open In Colab\"/></a>"
      ]
    },
    {
      "cell_type": "code",
      "metadata": {
        "id": "3rimUmNjl12k"
      },
      "source": [
        "import numpy as np\r\n",
        "import matplotlib.pyplot as plt\r\n",
        "import pandas as pd"
      ],
      "execution_count": 2,
      "outputs": []
    },
    {
      "cell_type": "code",
      "metadata": {
        "id": "YcNvLcDmn_2Q"
      },
      "source": [
        "#importing dataset\r\n",
        "url='https://raw.githubusercontent.com/ishancoderr/Neural-networks/main/Credit_Card_Applications.csv'\r\n",
        "dataset=pd.read_csv(url)"
      ],
      "execution_count": 3,
      "outputs": []
    },
    {
      "cell_type": "code",
      "metadata": {
        "id": "pEkG_6OKq8NH"
      },
      "source": [
        "X =dataset.iloc[:, :-1].values\r\n",
        "y =dataset.iloc[:,-1].values"
      ],
      "execution_count": 4,
      "outputs": []
    },
    {
      "cell_type": "code",
      "metadata": {
        "id": "uHEylalIDqS7"
      },
      "source": [
        "from sklearn.preprocessing import MinMaxScaler"
      ],
      "execution_count": 5,
      "outputs": []
    },
    {
      "cell_type": "code",
      "metadata": {
        "id": "8t-ernv-E-kL"
      },
      "source": [
        "sc=MinMaxScaler(feature_range=(0,1))\r\n",
        "X=sc.fit_transform(X)"
      ],
      "execution_count": 6,
      "outputs": []
    },
    {
      "cell_type": "markdown",
      "metadata": {
        "id": "eTVZp99PFpVI"
      },
      "source": [
        " **Training the SOM**"
      ]
    },
    {
      "cell_type": "code",
      "metadata": {
        "id": "J88-ryWIFxLp",
        "colab": {
          "base_uri": "https://localhost:8080/"
        },
        "outputId": "db2807c6-d29c-486f-acf0-0e34111c207a"
      },
      "source": [
        "!pip install MiniSom"
      ],
      "execution_count": 7,
      "outputs": [
        {
          "output_type": "stream",
          "text": [
            "Collecting MiniSom\n",
            "  Downloading https://files.pythonhosted.org/packages/69/3c/a5ad0d36137285cdffdd5cad105ec2eb3c3ddfbd3254a324993ab51d3401/MiniSom-2.2.7.tar.gz\n",
            "Building wheels for collected packages: MiniSom\n",
            "  Building wheel for MiniSom (setup.py) ... \u001b[?25l\u001b[?25hdone\n",
            "  Created wheel for MiniSom: filename=MiniSom-2.2.7-cp36-none-any.whl size=8607 sha256=7277c91a4aa80a30b33bd9647c45a2858d850b29e99d2fd738fb4580ebd59990\n",
            "  Stored in directory: /root/.cache/pip/wheels/db/9a/af/0fca4ced67fec66c00998c4bf55b13f0a4c882ee775f278862\n",
            "Successfully built MiniSom\n",
            "Installing collected packages: MiniSom\n",
            "Successfully installed MiniSom-2.2.7\n"
          ],
          "name": "stdout"
        }
      ]
    },
    {
      "cell_type": "code",
      "metadata": {
        "id": "Fa3MvaxRHWaY"
      },
      "source": [
        "from minisom import MiniSom"
      ],
      "execution_count": 8,
      "outputs": []
    },
    {
      "cell_type": "code",
      "metadata": {
        "id": "W-_n0g7nHd7q"
      },
      "source": [
        "som=MiniSom(x=10,y=10,input_len=15,sigma=1.0,learning_rate=0.5)"
      ],
      "execution_count": 9,
      "outputs": []
    },
    {
      "cell_type": "code",
      "metadata": {
        "id": "hebyZS51H5e5"
      },
      "source": [
        "som.random_weights_init(X)\r\n",
        "som.train_random(data =X,num_iteration=100)"
      ],
      "execution_count": 10,
      "outputs": []
    },
    {
      "cell_type": "markdown",
      "metadata": {
        "id": "B6lOEih-7-6M"
      },
      "source": [
        "# Visualizing the results"
      ]
    },
    {
      "cell_type": "code",
      "metadata": {
        "id": "1HLSjnYqDr5r"
      },
      "source": [
        "from pylab import bone, pcolor, colorbar, plot, show"
      ],
      "execution_count": 28,
      "outputs": []
    },
    {
      "cell_type": "code",
      "metadata": {
        "id": "W3jAlC3t8F1c",
        "outputId": "6ce0807b-d270-4b8b-f156-84106342ba98",
        "colab": {
          "base_uri": "https://localhost:8080/",
          "height": 596
        }
      },
      "source": [
        "from pylab import rcParams\r\n",
        "rcParams['figure.figsize'] = 15, 10\r\n",
        "bone()\r\n",
        "pcolor(som.distance_map().T)\r\n",
        "colorbar()\r\n",
        "markers = ['o', 's']\r\n",
        "colors = ['r', 'g']\r\n",
        "for i, x in enumerate(X):\r\n",
        "    w = som.winner(x)\r\n",
        "    plot(w[0] + 0.5,\r\n",
        "         w[1] + 0.5,\r\n",
        "         markers[y[i]],\r\n",
        "         markeredgecolor=colors[y[i]],\r\n",
        "         markerfacecolor='None',\r\n",
        "         markersize=10,\r\n",
        "         markeredgewidth=2)\r\n",
        "show()\r\n",
        "\r\n"
      ],
      "execution_count": 29,
      "outputs": [
        {
          "output_type": "display_data",
          "data": {
            "image/png": "[encoded data removed]",
            "text/plain": [
              "<Figure size 1080x720 with 2 Axes>"
            ]
          },
          "metadata": {
            "tags": [],
            "needs_background": "light"
          }
        }
      ]
    },
    {
      "cell_type": "markdown",
      "metadata": {
        "id": "idegsv1pAasy"
      },
      "source": [
        "**Finding the fraunds**"
      ]
    },
    {
      "cell_type": "code",
      "metadata": {
        "id": "dP8KvlFtAip9"
      },
      "source": [
        "mappings = som.win_map(X)\r\n"
      ],
      "execution_count": 36,
      "outputs": []
    },
    {
      "cell_type": "code",
      "metadata": {
        "id": "sg7xozhUD0hi"
      },
      "source": [
        "#frauds = np.concatenate((mappings[(8, 1)], mappings[(6, 8)]), axis=0)\r\n",
        "#pd.DataFrame(frauds)"
      ],
      "execution_count": 37,
      "outputs": []
    }
  ]
}