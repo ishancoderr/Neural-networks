{
  "nbformat": 4,
  "nbformat_minor": 0,
  "metadata": {
    "colab": {
      "name": "Untitled1.ipynb",
      "provenance": [],
      "collapsed_sections": [],
      "authorship_tag": "ABX9TyOl6ZEy5hAUKipseKLX+/mL",
      "include_colab_link": true
    },
    "kernelspec": {
      "name": "python3",
      "display_name": "Python 3"
    }
  },
  "cells": [
    {
      "cell_type": "markdown",
      "metadata": {
        "id": "view-in-github",
        "colab_type": "text"
      },
      "source": [
        "<a href=\"https://colab.research.google.com/github/ishancoderr/Neural-networks/blob/main/CNN.ipynb\" target=\"_parent\"><img src=\"https://colab.research.google.com/assets/colab-badge.svg\" alt=\"Open In Colab\"/></a>"
      ]
    },
    {
      "cell_type": "code",
      "metadata": {
        "id": "xbz29M69QUdz"
      },
      "source": [
        "import tensorflow as tf\r\n",
        "from keras.preprocessing.image import ImageDataGenerator"
      ],
      "execution_count": null,
      "outputs": []
    },
    {
      "cell_type": "code",
      "metadata": {
        "colab": {
          "base_uri": "https://localhost:8080/",
          "height": 35
        },
        "id": "7qYZRm2uUcPL",
        "outputId": "1c63eb9c-bed7-4808-c380-f35e45f7c75d"
      },
      "source": [
        "tf.__version__"
      ],
      "execution_count": null,
      "outputs": [
        {
          "output_type": "execute_result",
          "data": {
            "application/vnd.google.colaboratory.intrinsic+json": {
              "type": "string"
            },
            "text/plain": [
              "'2.3.0'"
            ]
          },
          "metadata": {
            "tags": []
          },
          "execution_count": 3
        }
      ]
    },
    {
      "cell_type": "markdown",
      "metadata": {
        "id": "72ORH-htUkM7"
      },
      "source": [
        "**Data prepocessing**"
      ]
    },
    {
      "cell_type": "code",
      "metadata": {
        "id": "o7MtXoFbU2Mr"
      },
      "source": [
        "train_datagen = ImageDataGenerator(\r\n",
        "        rescale=1./255,\r\n",
        "        shear_range=0.2,\r\n",
        "        zoom_range=0.2,\r\n",
        "        horizontal_flip=True)\r\n",
        "train_set = train_datagen.flow_from_directory(\r\n",
        "        'dataset/training_set',\r\n",
        "        target_size=(64, 64),\r\n",
        "        batch_size=32,\r\n",
        "        class_mode='binary')"
      ],
      "execution_count": null,
      "outputs": []
    },
    {
      "cell_type": "code",
      "metadata": {
        "id": "EMvE6zKUbUGz"
      },
      "source": [
        "test_datagen = ImageDataGenerator(rescale=1./255)\r\n",
        "test_set = test_datagen.flow_from_directory(\r\n",
        "        'dataset/test_set',\r\n",
        "        target_size=(64, 64),\r\n",
        "        batch_size=32,\r\n",
        "        class_mode='binary')"
      ],
      "execution_count": null,
      "outputs": []
    },
    {
      "cell_type": "code",
      "metadata": {
        "id": "j06bKju-cd4S"
      },
      "source": [
        "cnn=tf.keras.models.Sequential()"
      ],
      "execution_count": null,
      "outputs": []
    },
    {
      "cell_type": "markdown",
      "metadata": {
        "id": "uocmi6kscvq0"
      },
      "source": [
        "**Building CNN**"
      ]
    },
    {
      "cell_type": "code",
      "metadata": {
        "id": "qhny9f2cc06C"
      },
      "source": [
        "cnn.add(tf.keras.layers.Conv2D(filter=32,kernel_size=3,activation='relu',input_shape=[64,64,3]))"
      ],
      "execution_count": null,
      "outputs": []
    },
    {
      "cell_type": "markdown",
      "metadata": {
        "id": "uQAm2b-t7-cr"
      },
      "source": [
        "**pooling**"
      ]
    },
    {
      "cell_type": "code",
      "metadata": {
        "id": "_xbNdM0GGk4F"
      },
      "source": [
        "cnn.add(tf.keras.layers.MaxPool2D(pool_size=2,strides=2))"
      ],
      "execution_count": null,
      "outputs": []
    },
    {
      "cell_type": "markdown",
      "metadata": {
        "id": "3xGacYTLO77j"
      },
      "source": [
        "**Adding a second convolutional layer**"
      ]
    },
    {
      "cell_type": "code",
      "metadata": {
        "id": "9hX2AH7CPK61"
      },
      "source": [
        "cnn.add(tf.keras.layers.Conv2D(filters=32,kernel_size=3,activation='relu',input_shape=[64,64,3]))\r\n",
        "cnn.add(tf.keras.layers.MaxPool2D(pool_size=2,strides=2))"
      ],
      "execution_count": null,
      "outputs": []
    },
    {
      "cell_type": "markdown",
      "metadata": {
        "id": "B4VjyYXVUFLs"
      },
      "source": [
        "**Flattering**"
      ]
    },
    {
      "cell_type": "code",
      "metadata": {
        "id": "NeOufxEuUMCl"
      },
      "source": [
        "cnn.add(tf.keras.layers.Flatten())"
      ],
      "execution_count": null,
      "outputs": []
    },
    {
      "cell_type": "markdown",
      "metadata": {
        "id": "oRgCYAIJUfnt"
      },
      "source": [
        "**Full Connection**"
      ]
    },
    {
      "cell_type": "code",
      "metadata": {
        "id": "O2y4hpRnUkGU"
      },
      "source": [
        "cnn.add(tf.keras.layers.Dense(units=126,activation='relu'))"
      ],
      "execution_count": null,
      "outputs": []
    },
    {
      "cell_type": "markdown",
      "metadata": {
        "id": "9FO4pP2hVAPk"
      },
      "source": [
        "**Output Layer**"
      ]
    },
    {
      "cell_type": "code",
      "metadata": {
        "id": "XZM7iqAsVE2c"
      },
      "source": [
        "cnn.add(tf.keras.layers.Dense(units=1,activation='sigmoid'))"
      ],
      "execution_count": null,
      "outputs": []
    },
    {
      "cell_type": "markdown",
      "metadata": {
        "id": "Om7vOuPcVwI0"
      },
      "source": [
        "**Compiling the CNN**"
      ]
    },
    {
      "cell_type": "code",
      "metadata": {
        "id": "bksIorYvV1sE"
      },
      "source": [
        "cnn.compile(optimizer='adm',loss='binary_crossentropy',metrics=['accuracy'])"
      ],
      "execution_count": null,
      "outputs": []
    },
    {
      "cell_type": "markdown",
      "metadata": {
        "id": "tQnbE3Q3W2-s"
      },
      "source": [
        "**Training the CNN on the Training set and evaluating it on the test test set**"
      ]
    },
    {
      "cell_type": "code",
      "metadata": {
        "id": "OF2HgR11XO4e"
      },
      "source": [
        "cnn.fit(x = training_set,validation_data=test_set,epochs=25)"
      ],
      "execution_count": null,
      "outputs": []
    },
    {
      "cell_type": "markdown",
      "metadata": {
        "id": "svSXX90SYVpc"
      },
      "source": [
        "**Making a single prediction**"
      ]
    },
    {
      "cell_type": "code",
      "metadata": {
        "id": "cRKvbNbBYn1k"
      },
      "source": [
        "import numpy as np\r\n",
        "from keras.preprocessing import image\r\n",
        "test_image = image.load_img('dataset/single_prediction/cat_or_dog_1.jpg',target_size=(64,64))\r\n",
        "test_image=image.img_to_array(test_image)\r\n",
        "test_image = np.expand_dims(test_image,axis= 0)\r\n",
        "result=cnn.predict(test_image)\r\n",
        "training_set.class_indices\r\n",
        "if result[0][0]==1:\r\n",
        "  prediction='dog'\r\n",
        "else:\r\n",
        "  prediction='cat'"
      ],
      "execution_count": null,
      "outputs": []
    },
    {
      "cell_type": "code",
      "metadata": {
        "id": "yF-PUgr0fT6u"
      },
      "source": [
        "print(prediction)"
      ],
      "execution_count": null,
      "outputs": []
    }
  ]
}