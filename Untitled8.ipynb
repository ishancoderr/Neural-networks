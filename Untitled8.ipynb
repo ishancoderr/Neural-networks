{
  "nbformat": 4,
  "nbformat_minor": 0,
  "metadata": {
    "colab": {
      "name": "Untitled8.ipynb",
      "provenance": [],
      "authorship_tag": "ABX9TyO0f0Uqbwda0tnPq9deAWnv",
      "include_colab_link": true
    },
    "kernelspec": {
      "name": "python3",
      "display_name": "Python 3"
    }
  },
  "cells": [
    {
      "cell_type": "markdown",
      "metadata": {
        "id": "view-in-github",
        "colab_type": "text"
      },
      "source": [
        "<a href=\"https://colab.research.google.com/github/ishancoderr/Neural-networks/blob/main/Untitled8.ipynb\" target=\"_parent\"><img src=\"https://colab.research.google.com/assets/colab-badge.svg\" alt=\"Open In Colab\"/></a>"
      ]
    },
    {
      "cell_type": "code",
      "metadata": {
        "id": "Hmpdy915Ka0J"
      },
      "source": [
        "import numpy as np\n",
        "import pandas as pd\n",
        "import tensorflow as tf\n",
        "import csv"
      ],
      "execution_count": 25,
      "outputs": []
    },
    {
      "cell_type": "code",
      "metadata": {
        "colab": {
          "base_uri": "https://localhost:8080/",
          "height": 35
        },
        "id": "WJwXJj71Kylx",
        "outputId": "e350fe41-f19e-46d1-aae8-1bd4ecf56a6c"
      },
      "source": [
        "tf.__version__"
      ],
      "execution_count": 5,
      "outputs": [
        {
          "output_type": "execute_result",
          "data": {
            "application/vnd.google.colaboratory.intrinsic+json": {
              "type": "string"
            },
            "text/plain": [
              "'2.3.0'"
            ]
          },
          "metadata": {
            "tags": []
          },
          "execution_count": 5
        }
      ]
    },
    {
      "cell_type": "code",
      "metadata": {
        "id": "EkYbjo2cO0yI"
      },
      "source": [
        "url='https://raw.githubusercontent.com/ishancoderr/Neural-networks/main/Churn_Modelling.csv'\n",
        "dataset=pd.read_csv(url)\n",
        "X=dataset.iloc[:,3:-1].values\n",
        "y=dataset.iloc[:,-1].values\n"
      ],
      "execution_count": 26,
      "outputs": []
    },
    {
      "cell_type": "code",
      "metadata": {
        "colab": {
          "base_uri": "https://localhost:8080/"
        },
        "id": "h2xG3w-_YIQ2",
        "outputId": "765c1046-f870-4f53-f413-08eb703ea6fc"
      },
      "source": [
        "print(X)"
      ],
      "execution_count": 27,
      "outputs": [
        {
          "output_type": "stream",
          "text": [
            "[[619 'France' 'Female' ... 1 1 101348.88]\n",
            " [608 'Spain' 'Female' ... 0 1 112542.58]\n",
            " [502 'France' 'Female' ... 1 0 113931.57]\n",
            " ...\n",
            " [709 'France' 'Female' ... 0 1 42085.58]\n",
            " [772 'Germany' 'Male' ... 1 0 92888.52]\n",
            " [792 'France' 'Female' ... 1 0 38190.78]]\n"
          ],
          "name": "stdout"
        }
      ]
    },
    {
      "cell_type": "code",
      "metadata": {
        "colab": {
          "base_uri": "https://localhost:8080/"
        },
        "id": "CbgG0pNHYR8X",
        "outputId": "72a94d84-a0db-4d96-94fe-c538badca779"
      },
      "source": [
        "print(y)"
      ],
      "execution_count": 28,
      "outputs": [
        {
          "output_type": "stream",
          "text": [
            "[1 0 1 ... 1 1 0]\n"
          ],
          "name": "stdout"
        }
      ]
    },
    {
      "cell_type": "code",
      "metadata": {
        "id": "zzTnTgXzaAWg"
      },
      "source": [
        "from sklearn.preprocessing import LabelEncoder\n",
        "le = LabelEncoder()\n",
        "X[:, 2] = le.fit_transform(X[:, 2])"
      ],
      "execution_count": 29,
      "outputs": []
    },
    {
      "cell_type": "code",
      "metadata": {
        "colab": {
          "base_uri": "https://localhost:8080/"
        },
        "id": "H3tbZPrwfaCF",
        "outputId": "7ca401aa-0793-4f88-cad9-b8be7db32ff7"
      },
      "source": [
        "print(X)"
      ],
      "execution_count": 31,
      "outputs": [
        {
          "output_type": "stream",
          "text": [
            "[[619 'France' 0 ... 1 1 101348.88]\n",
            " [608 'Spain' 0 ... 0 1 112542.58]\n",
            " [502 'France' 0 ... 1 0 113931.57]\n",
            " ...\n",
            " [709 'France' 0 ... 0 1 42085.58]\n",
            " [772 'Germany' 1 ... 1 0 92888.52]\n",
            " [792 'France' 0 ... 1 0 38190.78]]\n"
          ],
          "name": "stdout"
        }
      ]
    },
    {
      "cell_type": "code",
      "metadata": {
        "id": "Bh-Ut6I2fgpW"
      },
      "source": [
        "from sklearn.compose import ColumnTransformer\n",
        "from sklearn.preprocessing import OneHotEncoder\n",
        "ct = ColumnTransformer(transformers=[('encoder', OneHotEncoder(), [1])], remainder='passthrough')\n",
        "X = np.array(ct.fit_transform(X))"
      ],
      "execution_count": 32,
      "outputs": []
    },
    {
      "cell_type": "code",
      "metadata": {
        "colab": {
          "base_uri": "https://localhost:8080/"
        },
        "id": "ufK3VTdTjitN",
        "outputId": "c218262d-7eba-49d6-af24-361747811822"
      },
      "source": [
        "print(X)"
      ],
      "execution_count": 33,
      "outputs": [
        {
          "output_type": "stream",
          "text": [
            "[[1.0 0.0 0.0 ... 1 1 101348.88]\n",
            " [0.0 0.0 1.0 ... 0 1 112542.58]\n",
            " [1.0 0.0 0.0 ... 1 0 113931.57]\n",
            " ...\n",
            " [1.0 0.0 0.0 ... 0 1 42085.58]\n",
            " [0.0 1.0 0.0 ... 1 0 92888.52]\n",
            " [1.0 0.0 0.0 ... 1 0 38190.78]]\n"
          ],
          "name": "stdout"
        }
      ]
    },
    {
      "cell_type": "code",
      "metadata": {
        "id": "GBBgpL_Sjoam"
      },
      "source": [
        "from sklearn.model_selection import train_test_split\n",
        "X_train, X_test, y_train, y_test = train_test_split(X, y, test_size = 0.2, random_state = 0)"
      ],
      "execution_count": 34,
      "outputs": []
    },
    {
      "cell_type": "code",
      "metadata": {
        "id": "ThIbm0FQj6ot"
      },
      "source": [
        "from sklearn.preprocessing import StandardScaler\n",
        "sc=StandardScaler()\n",
        "X_train=sc.fit_transform(X_train)\n",
        "X_test=sc.transform(X_test)"
      ],
      "execution_count": 35,
      "outputs": []
    },
    {
      "cell_type": "markdown",
      "metadata": {
        "id": "ALa9tKCseJq4"
      },
      "source": [
        "# Initializing the ANN"
      ]
    },
    {
      "cell_type": "code",
      "metadata": {
        "id": "7njxp_Udea9I"
      },
      "source": [
        "ann=tf.keras.models.Sequential()"
      ],
      "execution_count": 36,
      "outputs": []
    },
    {
      "cell_type": "code",
      "metadata": {
        "id": "HcGybk7sfnXB"
      },
      "source": [
        "ann.add(tf.keras.layers.Dense(units=6,activation='relu'))"
      ],
      "execution_count": 37,
      "outputs": []
    },
    {
      "cell_type": "code",
      "metadata": {
        "id": "Hrgiu9bVgofS"
      },
      "source": [
        "ann.add(tf.keras.layers.Dense(units=6,activation='relu'))"
      ],
      "execution_count": 38,
      "outputs": []
    },
    {
      "cell_type": "code",
      "metadata": {
        "id": "zSIUMpRog8jH"
      },
      "source": [
        "ann.add(tf.keras.layers.Dense(units=1,activation='sigmoid'))"
      ],
      "execution_count": 39,
      "outputs": []
    },
    {
      "cell_type": "markdown",
      "metadata": {
        "id": "6cvSl21ohkMA"
      },
      "source": [
        "# Tranning the ANN\n"
      ]
    },
    {
      "cell_type": "code",
      "metadata": {
        "id": "ZnVaRZmCtee4"
      },
      "source": [
        "ann.compile(optimizer='adam',loss='binary_crossentropy',metrics=['accuracy'])\n",
        "#non binory"
      ],
      "execution_count": 40,
      "outputs": []
    },
    {
      "cell_type": "code",
      "metadata": {
        "colab": {
          "base_uri": "https://localhost:8080/"
        },
        "id": "ESGDAXOy7UQE",
        "outputId": "15a226ac-fc81-4b0d-a51b-8e5bb35446cf"
      },
      "source": [
        "ann.fit(X_train,y_train,batch_size=32,epochs=100)"
      ],
      "execution_count": 41,
      "outputs": [
        {
          "output_type": "stream",
          "text": [
            "Epoch 1/100\n",
            "250/250 [==============================] - 0s 916us/step - loss: 0.4850 - accuracy: 0.7960\n",
            "Epoch 2/100\n",
            "250/250 [==============================] - 0s 929us/step - loss: 0.4459 - accuracy: 0.7964\n",
            "Epoch 3/100\n",
            "250/250 [==============================] - 0s 970us/step - loss: 0.4343 - accuracy: 0.8029\n",
            "Epoch 4/100\n",
            "250/250 [==============================] - 0s 936us/step - loss: 0.4295 - accuracy: 0.8070\n",
            "Epoch 5/100\n",
            "250/250 [==============================] - 0s 979us/step - loss: 0.4261 - accuracy: 0.8099\n",
            "Epoch 6/100\n",
            "250/250 [==============================] - 0s 909us/step - loss: 0.4236 - accuracy: 0.8119\n",
            "Epoch 7/100\n",
            "250/250 [==============================] - 0s 945us/step - loss: 0.4216 - accuracy: 0.8151\n",
            "Epoch 8/100\n",
            "250/250 [==============================] - 0s 1ms/step - loss: 0.4200 - accuracy: 0.8175\n",
            "Epoch 9/100\n",
            "250/250 [==============================] - 0s 939us/step - loss: 0.4190 - accuracy: 0.8179\n",
            "Epoch 10/100\n",
            "250/250 [==============================] - 0s 912us/step - loss: 0.4177 - accuracy: 0.8195\n",
            "Epoch 11/100\n",
            "250/250 [==============================] - 0s 883us/step - loss: 0.4168 - accuracy: 0.8192\n",
            "Epoch 12/100\n",
            "250/250 [==============================] - 0s 940us/step - loss: 0.4162 - accuracy: 0.8206\n",
            "Epoch 13/100\n",
            "250/250 [==============================] - 0s 909us/step - loss: 0.4153 - accuracy: 0.8221\n",
            "Epoch 14/100\n",
            "250/250 [==============================] - 0s 913us/step - loss: 0.4144 - accuracy: 0.8225\n",
            "Epoch 15/100\n",
            "250/250 [==============================] - 0s 926us/step - loss: 0.4136 - accuracy: 0.8245\n",
            "Epoch 16/100\n",
            "250/250 [==============================] - 0s 962us/step - loss: 0.4129 - accuracy: 0.8248\n",
            "Epoch 17/100\n",
            "250/250 [==============================] - 0s 885us/step - loss: 0.4118 - accuracy: 0.8260\n",
            "Epoch 18/100\n",
            "250/250 [==============================] - 0s 907us/step - loss: 0.4109 - accuracy: 0.8255\n",
            "Epoch 19/100\n",
            "250/250 [==============================] - 0s 925us/step - loss: 0.4098 - accuracy: 0.8275\n",
            "Epoch 20/100\n",
            "250/250 [==============================] - 0s 961us/step - loss: 0.4089 - accuracy: 0.8273\n",
            "Epoch 21/100\n",
            "250/250 [==============================] - 0s 887us/step - loss: 0.4080 - accuracy: 0.8288\n",
            "Epoch 22/100\n",
            "250/250 [==============================] - 0s 880us/step - loss: 0.4071 - accuracy: 0.8286\n",
            "Epoch 23/100\n",
            "250/250 [==============================] - 0s 886us/step - loss: 0.4058 - accuracy: 0.8290\n",
            "Epoch 24/100\n",
            "250/250 [==============================] - 0s 898us/step - loss: 0.4048 - accuracy: 0.8305\n",
            "Epoch 25/100\n",
            "250/250 [==============================] - 0s 946us/step - loss: 0.4040 - accuracy: 0.8305\n",
            "Epoch 26/100\n",
            "250/250 [==============================] - 0s 936us/step - loss: 0.4026 - accuracy: 0.8317\n",
            "Epoch 27/100\n",
            "250/250 [==============================] - 0s 947us/step - loss: 0.4016 - accuracy: 0.8311\n",
            "Epoch 28/100\n",
            "250/250 [==============================] - 0s 903us/step - loss: 0.3998 - accuracy: 0.8331\n",
            "Epoch 29/100\n",
            "250/250 [==============================] - 0s 947us/step - loss: 0.3979 - accuracy: 0.8326\n",
            "Epoch 30/100\n",
            "250/250 [==============================] - 0s 904us/step - loss: 0.3959 - accuracy: 0.8353\n",
            "Epoch 31/100\n",
            "250/250 [==============================] - 0s 891us/step - loss: 0.3938 - accuracy: 0.8355\n",
            "Epoch 32/100\n",
            "250/250 [==============================] - 0s 961us/step - loss: 0.3908 - accuracy: 0.8371\n",
            "Epoch 33/100\n",
            "250/250 [==============================] - 0s 904us/step - loss: 0.3867 - accuracy: 0.8374\n",
            "Epoch 34/100\n",
            "250/250 [==============================] - 0s 950us/step - loss: 0.3818 - accuracy: 0.8399\n",
            "Epoch 35/100\n",
            "250/250 [==============================] - 0s 974us/step - loss: 0.3759 - accuracy: 0.8425\n",
            "Epoch 36/100\n",
            "250/250 [==============================] - 0s 964us/step - loss: 0.3692 - accuracy: 0.8464\n",
            "Epoch 37/100\n",
            "250/250 [==============================] - 0s 928us/step - loss: 0.3634 - accuracy: 0.8489\n",
            "Epoch 38/100\n",
            "250/250 [==============================] - 0s 960us/step - loss: 0.3582 - accuracy: 0.8522\n",
            "Epoch 39/100\n",
            "250/250 [==============================] - 0s 906us/step - loss: 0.3545 - accuracy: 0.8539\n",
            "Epoch 40/100\n",
            "250/250 [==============================] - 0s 907us/step - loss: 0.3506 - accuracy: 0.8556\n",
            "Epoch 41/100\n",
            "250/250 [==============================] - 0s 909us/step - loss: 0.3481 - accuracy: 0.8576\n",
            "Epoch 42/100\n",
            "250/250 [==============================] - 0s 953us/step - loss: 0.3453 - accuracy: 0.8571\n",
            "Epoch 43/100\n",
            "250/250 [==============================] - 0s 940us/step - loss: 0.3436 - accuracy: 0.8604\n",
            "Epoch 44/100\n",
            "250/250 [==============================] - 0s 927us/step - loss: 0.3420 - accuracy: 0.8599\n",
            "Epoch 45/100\n",
            "250/250 [==============================] - 0s 921us/step - loss: 0.3412 - accuracy: 0.8612\n",
            "Epoch 46/100\n",
            "250/250 [==============================] - 0s 989us/step - loss: 0.3402 - accuracy: 0.8612\n",
            "Epoch 47/100\n",
            "250/250 [==============================] - 0s 944us/step - loss: 0.3390 - accuracy: 0.8616\n",
            "Epoch 48/100\n",
            "250/250 [==============================] - 0s 931us/step - loss: 0.3390 - accuracy: 0.8626\n",
            "Epoch 49/100\n",
            "250/250 [==============================] - 0s 934us/step - loss: 0.3388 - accuracy: 0.8619\n",
            "Epoch 50/100\n",
            "250/250 [==============================] - 0s 982us/step - loss: 0.3379 - accuracy: 0.8621\n",
            "Epoch 51/100\n",
            "250/250 [==============================] - 0s 917us/step - loss: 0.3384 - accuracy: 0.8618\n",
            "Epoch 52/100\n",
            "250/250 [==============================] - 0s 947us/step - loss: 0.3382 - accuracy: 0.8648\n",
            "Epoch 53/100\n",
            "250/250 [==============================] - 0s 1ms/step - loss: 0.3374 - accuracy: 0.8609\n",
            "Epoch 54/100\n",
            "250/250 [==============================] - 0s 934us/step - loss: 0.3374 - accuracy: 0.8634\n",
            "Epoch 55/100\n",
            "250/250 [==============================] - 0s 912us/step - loss: 0.3372 - accuracy: 0.8625\n",
            "Epoch 56/100\n",
            "250/250 [==============================] - 0s 1ms/step - loss: 0.3367 - accuracy: 0.8629\n",
            "Epoch 57/100\n",
            "250/250 [==============================] - 0s 1ms/step - loss: 0.3363 - accuracy: 0.8620\n",
            "Epoch 58/100\n",
            "250/250 [==============================] - 0s 985us/step - loss: 0.3362 - accuracy: 0.8637\n",
            "Epoch 59/100\n",
            "250/250 [==============================] - 0s 952us/step - loss: 0.3364 - accuracy: 0.8620\n",
            "Epoch 60/100\n",
            "250/250 [==============================] - 0s 935us/step - loss: 0.3360 - accuracy: 0.8637\n",
            "Epoch 61/100\n",
            "250/250 [==============================] - 0s 942us/step - loss: 0.3358 - accuracy: 0.8634\n",
            "Epoch 62/100\n",
            "250/250 [==============================] - 0s 918us/step - loss: 0.3356 - accuracy: 0.8630\n",
            "Epoch 63/100\n",
            "250/250 [==============================] - 0s 946us/step - loss: 0.3356 - accuracy: 0.8640\n",
            "Epoch 64/100\n",
            "250/250 [==============================] - 0s 922us/step - loss: 0.3358 - accuracy: 0.8622\n",
            "Epoch 65/100\n",
            "250/250 [==============================] - 0s 913us/step - loss: 0.3356 - accuracy: 0.8620\n",
            "Epoch 66/100\n",
            "250/250 [==============================] - 0s 919us/step - loss: 0.3353 - accuracy: 0.8643\n",
            "Epoch 67/100\n",
            "250/250 [==============================] - 0s 953us/step - loss: 0.3353 - accuracy: 0.8626\n",
            "Epoch 68/100\n",
            "250/250 [==============================] - 0s 923us/step - loss: 0.3351 - accuracy: 0.8609\n",
            "Epoch 69/100\n",
            "250/250 [==============================] - 0s 960us/step - loss: 0.3350 - accuracy: 0.8625\n",
            "Epoch 70/100\n",
            "250/250 [==============================] - 0s 992us/step - loss: 0.3354 - accuracy: 0.8627\n",
            "Epoch 71/100\n",
            "250/250 [==============================] - 0s 945us/step - loss: 0.3348 - accuracy: 0.8631\n",
            "Epoch 72/100\n",
            "250/250 [==============================] - 0s 901us/step - loss: 0.3351 - accuracy: 0.8635\n",
            "Epoch 73/100\n",
            "250/250 [==============================] - 0s 907us/step - loss: 0.3343 - accuracy: 0.8631\n",
            "Epoch 74/100\n",
            "250/250 [==============================] - 0s 943us/step - loss: 0.3346 - accuracy: 0.8625\n",
            "Epoch 75/100\n",
            "250/250 [==============================] - 0s 977us/step - loss: 0.3347 - accuracy: 0.8645\n",
            "Epoch 76/100\n",
            "250/250 [==============================] - 0s 920us/step - loss: 0.3344 - accuracy: 0.8630\n",
            "Epoch 77/100\n",
            "250/250 [==============================] - 0s 918us/step - loss: 0.3343 - accuracy: 0.8624\n",
            "Epoch 78/100\n",
            "250/250 [==============================] - 0s 942us/step - loss: 0.3346 - accuracy: 0.8636\n",
            "Epoch 79/100\n",
            "250/250 [==============================] - 0s 958us/step - loss: 0.3345 - accuracy: 0.8618\n",
            "Epoch 80/100\n",
            "250/250 [==============================] - 0s 931us/step - loss: 0.3344 - accuracy: 0.8620\n",
            "Epoch 81/100\n",
            "250/250 [==============================] - 0s 935us/step - loss: 0.3343 - accuracy: 0.8641\n",
            "Epoch 82/100\n",
            "250/250 [==============================] - 0s 970us/step - loss: 0.3342 - accuracy: 0.8629\n",
            "Epoch 83/100\n",
            "250/250 [==============================] - 0s 941us/step - loss: 0.3341 - accuracy: 0.8631\n",
            "Epoch 84/100\n",
            "250/250 [==============================] - 0s 914us/step - loss: 0.3341 - accuracy: 0.8619\n",
            "Epoch 85/100\n",
            "250/250 [==============================] - 0s 959us/step - loss: 0.3339 - accuracy: 0.8629\n",
            "Epoch 86/100\n",
            "250/250 [==============================] - 0s 958us/step - loss: 0.3341 - accuracy: 0.8634\n",
            "Epoch 87/100\n",
            "250/250 [==============================] - 0s 909us/step - loss: 0.3340 - accuracy: 0.8640\n",
            "Epoch 88/100\n",
            "250/250 [==============================] - 0s 930us/step - loss: 0.3342 - accuracy: 0.8641\n",
            "Epoch 89/100\n",
            "250/250 [==============================] - 0s 929us/step - loss: 0.3340 - accuracy: 0.8624\n",
            "Epoch 90/100\n",
            "250/250 [==============================] - 0s 956us/step - loss: 0.3338 - accuracy: 0.8641\n",
            "Epoch 91/100\n",
            "250/250 [==============================] - 0s 947us/step - loss: 0.3337 - accuracy: 0.8639\n",
            "Epoch 92/100\n",
            "250/250 [==============================] - 0s 1ms/step - loss: 0.3340 - accuracy: 0.8627\n",
            "Epoch 93/100\n",
            "250/250 [==============================] - 0s 981us/step - loss: 0.3335 - accuracy: 0.8645\n",
            "Epoch 94/100\n",
            "250/250 [==============================] - 0s 952us/step - loss: 0.3340 - accuracy: 0.8645\n",
            "Epoch 95/100\n",
            "250/250 [==============================] - 0s 930us/step - loss: 0.3335 - accuracy: 0.8622\n",
            "Epoch 96/100\n",
            "250/250 [==============================] - 0s 975us/step - loss: 0.3338 - accuracy: 0.8627\n",
            "Epoch 97/100\n",
            "250/250 [==============================] - 0s 919us/step - loss: 0.3334 - accuracy: 0.8634\n",
            "Epoch 98/100\n",
            "250/250 [==============================] - 0s 1ms/step - loss: 0.3334 - accuracy: 0.8635\n",
            "Epoch 99/100\n",
            "250/250 [==============================] - 0s 913us/step - loss: 0.3339 - accuracy: 0.8633\n",
            "Epoch 100/100\n",
            "250/250 [==============================] - 0s 954us/step - loss: 0.3331 - accuracy: 0.8631\n"
          ],
          "name": "stdout"
        },
        {
          "output_type": "execute_result",
          "data": {
            "text/plain": [
              "<tensorflow.python.keras.callbacks.History at 0x7fba0324bfd0>"
            ]
          },
          "metadata": {
            "tags": []
          },
          "execution_count": 41
        }
      ]
    },
    {
      "cell_type": "code",
      "metadata": {
        "id": "oLOnKK1A_8fe",
        "outputId": "8756ba3b-84f2-4251-8386-341a5cc614de",
        "colab": {
          "base_uri": "https://localhost:8080/"
        }
      },
      "source": [
        "print(ann.predict(sc.transform([[1,0,0,600,1,40,3,6000,2,1,1,5000]]))>0.5)"
      ],
      "execution_count": 43,
      "outputs": [
        {
          "output_type": "stream",
          "text": [
            "[[False]]\n"
          ],
          "name": "stdout"
        }
      ]
    }
  ]
}