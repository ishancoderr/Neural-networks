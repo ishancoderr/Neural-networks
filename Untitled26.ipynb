{
  "nbformat": 4,
  "nbformat_minor": 0,
  "metadata": {
    "colab": {
      "name": "Untitled26.ipynb",
      "provenance": [],
      "authorship_tag": "ABX9TyPxB/EIKuyiUPxdpqtPzT/i",
      "include_colab_link": true
    },
    "kernelspec": {
      "name": "python3",
      "display_name": "Python 3"
    },
    "language_info": {
      "name": "python"
    }
  },
  "cells": [
    {
      "cell_type": "markdown",
      "metadata": {
        "id": "view-in-github",
        "colab_type": "text"
      },
      "source": [
        "<a href=\"https://colab.research.google.com/github/ishancoderr/Neural-networks/blob/main/Untitled26.ipynb\" target=\"_parent\"><img src=\"https://colab.research.google.com/assets/colab-badge.svg\" alt=\"Open In Colab\"/></a>"
      ]
    },
    {
      "cell_type": "code",
      "metadata": {
        "colab": {
          "base_uri": "https://localhost:8080/"
        },
        "id": "1Asf9QeF9GWG",
        "outputId": "f6d8e2ea-bfd8-4a81-9e93-88b913b4bacb"
      },
      "source": [
        "my_dict={'Dave':'001','Ava':'002','Joe':'003'}\n",
        "print(my_dict)\n",
        "type(my_dict)"
      ],
      "execution_count": 1,
      "outputs": [
        {
          "output_type": "stream",
          "text": [
            "{'Dave': '001', 'Ava': '002', 'Joe': '003'}\n"
          ],
          "name": "stdout"
        },
        {
          "output_type": "execute_result",
          "data": {
            "text/plain": [
              "dict"
            ]
          },
          "metadata": {
            "tags": []
          },
          "execution_count": 1
        }
      ]
    },
    {
      "cell_type": "code",
      "metadata": {
        "colab": {
          "base_uri": "https://localhost:8080/"
        },
        "id": "bYkxLVxq-Sb-",
        "outputId": "ee8a304c-c30e-47b3-f444-6d810eb7667b"
      },
      "source": [
        "new_dict=dict(ishan='001',weerakoon='002')\n",
        "print(new_dict)\n",
        "type(new_dict)"
      ],
      "execution_count": 3,
      "outputs": [
        {
          "output_type": "stream",
          "text": [
            "{'ishan': '001', 'weerakoon': '002'}\n"
          ],
          "name": "stdout"
        },
        {
          "output_type": "execute_result",
          "data": {
            "text/plain": [
              "dict"
            ]
          },
          "metadata": {
            "tags": []
          },
          "execution_count": 3
        }
      ]
    },
    {
      "cell_type": "code",
      "metadata": {
        "colab": {
          "base_uri": "https://localhost:8080/"
        },
        "id": "ggW_8TWu-oTV",
        "outputId": "42cb11b0-c6d1-4f08-e06e-42d233aab21d"
      },
      "source": [
        "mydetails={'Employee':{'Dave':{'ID':'001','salary':'2000','Designation':'Team Lead'}\n",
        "             ,'Ava':{'ID':'001','salary':'1000','Designation':'Associate'}}}\n",
        "print(mydetails)"
      ],
      "execution_count": 4,
      "outputs": [
        {
          "output_type": "stream",
          "text": [
            "{'Employee': {'Dave': {'ID': '001', 'salary': '2000', 'Designation': 'Team Lead'}, 'Ava': {'ID': '001', 'salary': '1000', 'Designation': 'Associate'}}}\n"
          ],
          "name": "stdout"
        }
      ]
    },
    {
      "cell_type": "code",
      "metadata": {
        "colab": {
          "base_uri": "https://localhost:8080/",
          "height": 35
        },
        "id": "4s1ZiChHZVaE",
        "outputId": "b2869ef2-727d-4da8-f510-21976ec41015"
      },
      "source": [
        "my_dict['Dave']"
      ],
      "execution_count": 5,
      "outputs": [
        {
          "output_type": "execute_result",
          "data": {
            "application/vnd.google.colaboratory.intrinsic+json": {
              "type": "string"
            },
            "text/plain": [
              "'001'"
            ]
          },
          "metadata": {
            "tags": []
          },
          "execution_count": 5
        }
      ]
    },
    {
      "cell_type": "code",
      "metadata": {
        "colab": {
          "base_uri": "https://localhost:8080/"
        },
        "id": "5mPyKuA7cT7C",
        "outputId": "7b78786f-f93b-4867-e17e-3e88b494d285"
      },
      "source": [
        "print(my_dict.values())"
      ],
      "execution_count": 6,
      "outputs": [
        {
          "output_type": "stream",
          "text": [
            "dict_values(['001', '002', '003'])\n"
          ],
          "name": "stdout"
        }
      ]
    },
    {
      "cell_type": "code",
      "metadata": {
        "colab": {
          "base_uri": "https://localhost:8080/"
        },
        "id": "UoY3arnRckJa",
        "outputId": "8cbed91a-763c-4104-b28d-241c655a079e"
      },
      "source": [
        "print(my_dict.get('Ava'))"
      ],
      "execution_count": 8,
      "outputs": [
        {
          "output_type": "stream",
          "text": [
            "002\n"
          ],
          "name": "stdout"
        }
      ]
    },
    {
      "cell_type": "code",
      "metadata": {
        "colab": {
          "base_uri": "https://localhost:8080/"
        },
        "id": "6C_W0_WNdE2j",
        "outputId": "7d9a65b2-33d7-4571-abe5-8d01d198b501"
      },
      "source": [
        "for x in my_dict.values():\n",
        "  print(x) "
      ],
      "execution_count": 9,
      "outputs": [
        {
          "output_type": "stream",
          "text": [
            "001\n",
            "002\n",
            "003\n"
          ],
          "name": "stdout"
        }
      ]
    },
    {
      "cell_type": "code",
      "metadata": {
        "colab": {
          "base_uri": "https://localhost:8080/",
          "height": 35
        },
        "id": "aG5t7_9Hh0Kg",
        "outputId": "90308fb9-e7fc-42fd-e6ac-aba1383335f5"
      },
      "source": [
        "my_dict.pop('Ava')"
      ],
      "execution_count": 10,
      "outputs": [
        {
          "output_type": "execute_result",
          "data": {
            "application/vnd.google.colaboratory.intrinsic+json": {
              "type": "string"
            },
            "text/plain": [
              "'002'"
            ]
          },
          "metadata": {
            "tags": []
          },
          "execution_count": 10
        }
      ]
    }
  ]
}