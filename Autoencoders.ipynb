{
  "nbformat": 4,
  "nbformat_minor": 0,
  "metadata": {
    "colab": {
      "name": "Autoencoders.ipynb",
      "provenance": [],
      "authorship_tag": "ABX9TyPwipwtfZkoo3TKO4PDn5m6",
      "include_colab_link": true
    },
    "kernelspec": {
      "name": "python3",
      "display_name": "Python 3"
    }
  },
  "cells": [
    {
      "cell_type": "markdown",
      "metadata": {
        "id": "view-in-github",
        "colab_type": "text"
      },
      "source": [
        "<a href=\"https://colab.research.google.com/github/ishancoderr/Neural-networks/blob/main/Autoencoders.ipynb\" target=\"_parent\"><img src=\"https://colab.research.google.com/assets/colab-badge.svg\" alt=\"Open In Colab\"/></a>"
      ]
    },
    {
      "cell_type": "code",
      "metadata": {
        "id": "i-OG_PDshwEZ"
      },
      "source": [
        "import numpy as np\r\n",
        "import pandas as pd\r\n",
        "import torch\r\n",
        "import torch.nn as nn\r\n",
        "import torch.nn.parallel\r\n",
        "import torch.optim as optim\r\n",
        "import torch.utils.data\r\n",
        "from torch.autograd import Variable"
      ],
      "execution_count": 25,
      "outputs": []
    },
    {
      "cell_type": "markdown",
      "metadata": {
        "id": "rR4mFcFGyrg-"
      },
      "source": [
        "**Importing the dataSet**"
      ]
    },
    {
      "cell_type": "code",
      "metadata": {
        "id": "XdLzWtBwyG71"
      },
      "source": [
        "url=\"https://raw.githubusercontent.com/ishancoderr/Neural-networks/main/movies.dat\"\r\n",
        "url2=\"https://raw.githubusercontent.com/ishancoderr/Neural-networks/main/users.dat\"\r\n",
        "url3=\"https://raw.githubusercontent.com/ishancoderr/Neural-networks/main/ratings.dat\"\r\n",
        "movies=pd.read_csv(url,sep='::',header=None,engine='python',encoding='latin-1')\r\n",
        "users=pd.read_csv(url2,sep='::',header=None,engine='python',encoding='latin-1')\r\n",
        "ratings=pd.read_csv(url3,sep='::',header=None,engine='python',encoding='latin-1')"
      ],
      "execution_count": 26,
      "outputs": []
    },
    {
      "cell_type": "code",
      "metadata": {
        "id": "zwcqQ9sp9s10"
      },
      "source": [
        "url6=\"https://raw.githubusercontent.com/ishancoderr/Neural-networks/main/u1.base\"\r\n",
        "training_set = pd.read_csv(url6, delimiter = '\\t')\r\n",
        "training_set = np.array(training_set, dtype = 'int')\r\n",
        "url5=\"https://raw.githubusercontent.com/ishancoderr/Neural-networks/main/u1.test\"\r\n",
        "test_set =pd.read_csv(url5,delimiter='\\t')\r\n",
        "test_set =np.array(test_set,dtype='int')"
      ],
      "execution_count": 27,
      "outputs": []
    },
    {
      "cell_type": "code",
      "metadata": {
        "id": "ekuqn_9WDbYT"
      },
      "source": [
        "nb_users = int(max(max(training_set[:, 0], ), max(test_set[:, 0])))\r\n",
        "nb_movies = int(max(max(training_set[:, 1], ), max(test_set[:, 1])))"
      ],
      "execution_count": 28,
      "outputs": []
    },
    {
      "cell_type": "code",
      "metadata": {
        "id": "C9jMBb0IFNYr"
      },
      "source": [
        "def convert(data):\r\n",
        "  new_data =[]\r\n",
        "  for id_users in range(1,nb_users+1):\r\n",
        "    id_movies =data[:,1][data[:,0]==id_users]\r\n",
        "    id_ratings=data[:,2][data[:,0]==id_users]\r\n",
        "    ratings=np.zeros(nb_movies)\r\n",
        "    ratings[id_movies-1] = id_ratings\r\n",
        "    new_data.append(list(ratings))\r\n",
        "  return new_data\r\n",
        "training_set=convert(training_set)\r\n",
        "test_set=convert(test_set)\r\n",
        "\r\n",
        "\r\n",
        "\r\n"
      ],
      "execution_count": 29,
      "outputs": []
    },
    {
      "cell_type": "code",
      "metadata": {
        "id": "9ICqzF8_Jj9j"
      },
      "source": [
        "training_set =torch.FloatTensor(training_set)\r\n",
        "test_set=torch.FloatTensor(test_set)"
      ],
      "execution_count": 30,
      "outputs": []
    },
    {
      "cell_type": "code",
      "metadata": {
        "id": "GhF_6tF_KC46"
      },
      "source": [
        "class SAE(nn.Module):\r\n",
        "    def __init__(self, ):\r\n",
        "        super(SAE, self).__init__()\r\n",
        "        self.fc1 = nn.Linear(nb_movies, 20)\r\n",
        "        self.fc2 = nn.Linear(20, 10)\r\n",
        "        self.fc3 = nn.Linear(10, 20)\r\n",
        "        self.fc4 = nn.Linear(20, nb_movies)\r\n",
        "        self.activation = nn.Sigmoid()\r\n",
        "    def forward(self, x):\r\n",
        "        x = self.activation(self.fc1(x))\r\n",
        "        x = self.activation(self.fc2(x))\r\n",
        "        x = self.activation(self.fc3(x))\r\n",
        "        x = self.fc4(x)\r\n",
        "        return x\r\n",
        "sae = SAE()\r\n",
        "criterion = nn.MSELoss()\r\n",
        "optimizer = optim.RMSprop(sae.parameters(), lr = 0.01, weight_decay = 0.5)\r\n",
        "  \r\n",
        "\r\n"
      ],
      "execution_count": 31,
      "outputs": []
    },
    {
      "cell_type": "code",
      "metadata": {
        "colab": {
          "base_uri": "https://localhost:8080/"
        },
        "id": "LpQqKkCERzda",
        "outputId": "d3227515-1834-472d-f5cf-2850dfd2bc90"
      },
      "source": [
        "nb_epoch = 200\r\n",
        "for epoch in range(1, nb_epoch + 1):\r\n",
        "  train_loss = 0\r\n",
        "  s = 0.\r\n",
        "  for id_user in range(nb_users):\r\n",
        "    input = Variable(training_set[id_user]).unsqueeze(0)\r\n",
        "    target = input.clone()\r\n",
        "    if torch.sum(target.data > 0) > 0:\r\n",
        "      output = sae(input)\r\n",
        "      target.require_grad = False\r\n",
        "      output[target == 0] = 0\r\n",
        "      loss = criterion(output, target)\r\n",
        "      mean_corrector = nb_movies/float(torch.sum(target.data > 0) + 1e-10)\r\n",
        "      loss.backward()\r\n",
        "      train_loss += np.sqrt(loss.data*mean_corrector)\r\n",
        "      s += 1.\r\n",
        "      optimizer.step()\r\n",
        "  print('epoch: '+str(epoch)+'loss: '+ str(train_loss/s))\r\n",
        "\r\n",
        "\r\n",
        "\r\n"
      ],
      "execution_count": 32,
      "outputs": [
        {
          "output_type": "stream",
          "text": [
            "epoch: 1loss: tensor(1.7717)\n",
            "epoch: 2loss: tensor(1.0967)\n",
            "epoch: 3loss: tensor(1.0536)\n",
            "epoch: 4loss: tensor(1.0382)\n",
            "epoch: 5loss: tensor(1.0312)\n",
            "epoch: 6loss: tensor(1.0269)\n",
            "epoch: 7loss: tensor(1.0239)\n",
            "epoch: 8loss: tensor(1.0218)\n",
            "epoch: 9loss: tensor(1.0207)\n",
            "epoch: 10loss: tensor(1.0196)\n",
            "epoch: 11loss: tensor(1.0188)\n",
            "epoch: 12loss: tensor(1.0184)\n",
            "epoch: 13loss: tensor(1.0180)\n",
            "epoch: 14loss: tensor(1.0175)\n",
            "epoch: 15loss: tensor(1.0171)\n",
            "epoch: 16loss: tensor(1.0170)\n",
            "epoch: 17loss: tensor(1.0168)\n",
            "epoch: 18loss: tensor(1.0165)\n",
            "epoch: 19loss: tensor(1.0162)\n",
            "epoch: 20loss: tensor(1.0160)\n",
            "epoch: 21loss: tensor(1.0161)\n",
            "epoch: 22loss: tensor(1.0158)\n",
            "epoch: 23loss: tensor(1.0159)\n",
            "epoch: 24loss: tensor(1.0158)\n",
            "epoch: 25loss: tensor(1.0158)\n",
            "epoch: 26loss: tensor(1.0153)\n",
            "epoch: 27loss: tensor(1.0153)\n",
            "epoch: 28loss: tensor(1.0150)\n",
            "epoch: 29loss: tensor(1.0127)\n",
            "epoch: 30loss: tensor(1.0112)\n",
            "epoch: 31loss: tensor(1.0103)\n",
            "epoch: 32loss: tensor(1.0076)\n",
            "epoch: 33loss: tensor(1.0066)\n",
            "epoch: 34loss: tensor(1.0026)\n",
            "epoch: 35loss: tensor(1.0019)\n",
            "epoch: 36loss: tensor(1.0013)\n",
            "epoch: 37loss: tensor(1.0004)\n",
            "epoch: 38loss: tensor(0.9970)\n",
            "epoch: 39loss: tensor(0.9967)\n",
            "epoch: 40loss: tensor(0.9937)\n",
            "epoch: 41loss: tensor(0.9935)\n",
            "epoch: 42loss: tensor(0.9892)\n",
            "epoch: 43loss: tensor(0.9907)\n",
            "epoch: 44loss: tensor(0.9880)\n",
            "epoch: 45loss: tensor(0.9878)\n",
            "epoch: 46loss: tensor(0.9819)\n",
            "epoch: 47loss: tensor(0.9834)\n",
            "epoch: 48loss: tensor(0.9810)\n",
            "epoch: 49loss: tensor(0.9796)\n",
            "epoch: 50loss: tensor(0.9735)\n",
            "epoch: 51loss: tensor(0.9746)\n",
            "epoch: 52loss: tensor(0.9733)\n",
            "epoch: 53loss: tensor(0.9747)\n",
            "epoch: 54loss: tensor(0.9707)\n",
            "epoch: 55loss: tensor(0.9668)\n",
            "epoch: 56loss: tensor(0.9663)\n",
            "epoch: 57loss: tensor(0.9679)\n",
            "epoch: 58loss: tensor(0.9649)\n",
            "epoch: 59loss: tensor(0.9643)\n",
            "epoch: 60loss: tensor(0.9619)\n",
            "epoch: 61loss: tensor(0.9607)\n",
            "epoch: 62loss: tensor(0.9580)\n",
            "epoch: 63loss: tensor(0.9582)\n",
            "epoch: 64loss: tensor(0.9580)\n",
            "epoch: 65loss: tensor(0.9631)\n",
            "epoch: 66loss: tensor(0.9611)\n",
            "epoch: 67loss: tensor(0.9572)\n",
            "epoch: 68loss: tensor(0.9529)\n",
            "epoch: 69loss: tensor(0.9547)\n",
            "epoch: 70loss: tensor(0.9528)\n",
            "epoch: 71loss: tensor(0.9560)\n",
            "epoch: 72loss: tensor(0.9522)\n",
            "epoch: 73loss: tensor(0.9539)\n",
            "epoch: 74loss: tensor(0.9500)\n",
            "epoch: 75loss: tensor(0.9476)\n",
            "epoch: 76loss: tensor(0.9472)\n",
            "epoch: 77loss: tensor(0.9449)\n",
            "epoch: 78loss: tensor(0.9455)\n",
            "epoch: 79loss: tensor(0.9467)\n",
            "epoch: 80loss: tensor(0.9447)\n",
            "epoch: 81loss: tensor(0.9440)\n",
            "epoch: 82loss: tensor(0.9421)\n",
            "epoch: 83loss: tensor(0.9424)\n",
            "epoch: 84loss: tensor(0.9408)\n",
            "epoch: 85loss: tensor(0.9423)\n",
            "epoch: 86loss: tensor(0.9408)\n",
            "epoch: 87loss: tensor(0.9404)\n",
            "epoch: 88loss: tensor(0.9384)\n",
            "epoch: 89loss: tensor(0.9395)\n",
            "epoch: 90loss: tensor(0.9374)\n",
            "epoch: 91loss: tensor(0.9387)\n",
            "epoch: 92loss: tensor(0.9366)\n",
            "epoch: 93loss: tensor(0.9386)\n",
            "epoch: 94loss: tensor(0.9368)\n",
            "epoch: 95loss: tensor(0.9398)\n",
            "epoch: 96loss: tensor(0.9363)\n",
            "epoch: 97loss: tensor(0.9372)\n",
            "epoch: 98loss: tensor(0.9343)\n",
            "epoch: 99loss: tensor(0.9358)\n",
            "epoch: 100loss: tensor(0.9338)\n",
            "epoch: 101loss: tensor(0.9351)\n",
            "epoch: 102loss: tensor(0.9344)\n",
            "epoch: 103loss: tensor(0.9357)\n",
            "epoch: 104loss: tensor(0.9333)\n",
            "epoch: 105loss: tensor(0.9332)\n",
            "epoch: 106loss: tensor(0.9323)\n",
            "epoch: 107loss: tensor(0.9347)\n",
            "epoch: 108loss: tensor(0.9329)\n",
            "epoch: 109loss: tensor(0.9324)\n",
            "epoch: 110loss: tensor(0.9321)\n",
            "epoch: 111loss: tensor(0.9314)\n",
            "epoch: 112loss: tensor(0.9311)\n",
            "epoch: 113loss: tensor(0.9384)\n",
            "epoch: 114loss: tensor(0.9396)\n",
            "epoch: 115loss: tensor(0.9388)\n",
            "epoch: 116loss: tensor(0.9356)\n",
            "epoch: 117loss: tensor(0.9374)\n",
            "epoch: 118loss: tensor(0.9343)\n",
            "epoch: 119loss: tensor(0.9362)\n",
            "epoch: 120loss: tensor(0.9318)\n",
            "epoch: 121loss: tensor(0.9373)\n",
            "epoch: 122loss: tensor(0.9346)\n",
            "epoch: 123loss: tensor(0.9351)\n",
            "epoch: 124loss: tensor(0.9320)\n",
            "epoch: 125loss: tensor(0.9333)\n",
            "epoch: 126loss: tensor(0.9306)\n",
            "epoch: 127loss: tensor(0.9322)\n",
            "epoch: 128loss: tensor(0.9294)\n",
            "epoch: 129loss: tensor(0.9350)\n",
            "epoch: 130loss: tensor(0.9348)\n",
            "epoch: 131loss: tensor(0.9341)\n",
            "epoch: 132loss: tensor(0.9318)\n",
            "epoch: 133loss: tensor(0.9313)\n",
            "epoch: 134loss: tensor(0.9299)\n",
            "epoch: 135loss: tensor(0.9307)\n",
            "epoch: 136loss: tensor(0.9278)\n",
            "epoch: 137loss: tensor(0.9289)\n",
            "epoch: 138loss: tensor(0.9271)\n",
            "epoch: 139loss: tensor(0.9277)\n",
            "epoch: 140loss: tensor(0.9264)\n",
            "epoch: 141loss: tensor(0.9274)\n",
            "epoch: 142loss: tensor(0.9262)\n",
            "epoch: 143loss: tensor(0.9261)\n",
            "epoch: 144loss: tensor(0.9250)\n",
            "epoch: 145loss: tensor(0.9257)\n",
            "epoch: 146loss: tensor(0.9253)\n",
            "epoch: 147loss: tensor(0.9258)\n",
            "epoch: 148loss: tensor(0.9241)\n",
            "epoch: 149loss: tensor(0.9239)\n",
            "epoch: 150loss: tensor(0.9234)\n",
            "epoch: 151loss: tensor(0.9244)\n",
            "epoch: 152loss: tensor(0.9231)\n",
            "epoch: 153loss: tensor(0.9232)\n",
            "epoch: 154loss: tensor(0.9219)\n",
            "epoch: 155loss: tensor(0.9222)\n",
            "epoch: 156loss: tensor(0.9211)\n",
            "epoch: 157loss: tensor(0.9220)\n",
            "epoch: 158loss: tensor(0.9211)\n",
            "epoch: 159loss: tensor(0.9284)\n",
            "epoch: 160loss: tensor(0.9286)\n",
            "epoch: 161loss: tensor(0.9279)\n",
            "epoch: 162loss: tensor(0.9263)\n",
            "epoch: 163loss: tensor(0.9269)\n",
            "epoch: 164loss: tensor(0.9250)\n",
            "epoch: 165loss: tensor(0.9256)\n",
            "epoch: 166loss: tensor(0.9239)\n",
            "epoch: 167loss: tensor(0.9247)\n",
            "epoch: 168loss: tensor(0.9234)\n",
            "epoch: 169loss: tensor(0.9242)\n",
            "epoch: 170loss: tensor(0.9230)\n",
            "epoch: 171loss: tensor(0.9229)\n",
            "epoch: 172loss: tensor(0.9214)\n",
            "epoch: 173loss: tensor(0.9223)\n",
            "epoch: 174loss: tensor(0.9209)\n",
            "epoch: 175loss: tensor(0.9213)\n",
            "epoch: 176loss: tensor(0.9203)\n",
            "epoch: 177loss: tensor(0.9207)\n",
            "epoch: 178loss: tensor(0.9198)\n",
            "epoch: 179loss: tensor(0.9206)\n",
            "epoch: 180loss: tensor(0.9195)\n",
            "epoch: 181loss: tensor(0.9196)\n",
            "epoch: 182loss: tensor(0.9198)\n",
            "epoch: 183loss: tensor(0.9205)\n",
            "epoch: 184loss: tensor(0.9190)\n",
            "epoch: 185loss: tensor(0.9191)\n",
            "epoch: 186loss: tensor(0.9186)\n",
            "epoch: 187loss: tensor(0.9192)\n",
            "epoch: 188loss: tensor(0.9185)\n",
            "epoch: 189loss: tensor(0.9180)\n",
            "epoch: 190loss: tensor(0.9173)\n",
            "epoch: 191loss: tensor(0.9169)\n",
            "epoch: 192loss: tensor(0.9159)\n",
            "epoch: 193loss: tensor(0.9157)\n",
            "epoch: 194loss: tensor(0.9152)\n",
            "epoch: 195loss: tensor(0.9151)\n",
            "epoch: 196loss: tensor(0.9144)\n",
            "epoch: 197loss: tensor(0.9142)\n",
            "epoch: 198loss: tensor(0.9135)\n",
            "epoch: 199loss: tensor(0.9133)\n",
            "epoch: 200loss: tensor(0.9123)\n"
          ],
          "name": "stdout"
        }
      ]
    },
    {
      "cell_type": "code",
      "metadata": {
        "colab": {
          "base_uri": "https://localhost:8080/"
        },
        "id": "ctQIpfyxqd0T",
        "outputId": "91076344-6ac5-4302-f4c2-5ac36bcd0be8"
      },
      "source": [
        "test_loss = 0\r\n",
        "s = 0.\r\n",
        "for id_user in range(nb_users):\r\n",
        "  input = Variable(training_set[id_user]).unsqueeze(0)\r\n",
        "  target = Variable(test_set[id_user]).unsqueeze(0)\r\n",
        "  if torch.sum(target.data > 0) > 0:\r\n",
        "    output = sae(input)\r\n",
        "    target.require_grad = False\r\n",
        "    output[target == 0] = 0\r\n",
        "    loss = criterion(output, target)\r\n",
        "    mean_corrector = nb_movies/float(torch.sum(target.data > 0) + 1e-10)\r\n",
        "    test_loss += np.sqrt(loss.data*mean_corrector)\r\n",
        "    s += 1.\r\n",
        "print('test loss: '+str(test_loss/s))"
      ],
      "execution_count": 33,
      "outputs": [
        {
          "output_type": "stream",
          "text": [
            "test loss: tensor(0.9491)\n"
          ],
          "name": "stdout"
        }
      ]
    }
  ]
}