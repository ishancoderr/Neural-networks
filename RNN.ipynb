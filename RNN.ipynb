{
  "nbformat": 4,
  "nbformat_minor": 0,
  "metadata": {
    "colab": {
      "name": "Untitled4.ipynb",
      "provenance": [],
      "authorship_tag": "ABX9TyMaX4ILnQYETpGwa8a1nDIl",
      "include_colab_link": true
    },
    "kernelspec": {
      "name": "python3",
      "display_name": "Python 3"
    }
  },
  "cells": [
    {
      "cell_type": "markdown",
      "metadata": {
        "id": "view-in-github",
        "colab_type": "text"
      },
      "source": [
        "<a href=\"https://colab.research.google.com/github/ishancoderr/Neural-networks/blob/main/RNN.ipynb\" target=\"_parent\"><img src=\"https://colab.research.google.com/assets/colab-badge.svg\" alt=\"Open In Colab\"/></a>"
      ]
    },
    {
      "cell_type": "code",
      "metadata": {
        "id": "DfxMteteXzHL"
      },
      "source": [
        "\r\n",
        "import numpy as np\r\n",
        "import matplotlib.pyplot as plt\r\n",
        "import pandas as pd"
      ],
      "execution_count": 9,
      "outputs": []
    },
    {
      "cell_type": "code",
      "metadata": {
        "id": "ilkOxtzOYbkt"
      },
      "source": [
        "url='https://raw.githubusercontent.com/ishancoderr/Neural-networks/main/Google_Stock_Price_Train.csv'\r\n",
        "dataset_train=pd.read_csv(url)\r\n",
        "training_set=dataset_train.iloc[:,1:2].values\r\n"
      ],
      "execution_count": 10,
      "outputs": []
    },
    {
      "cell_type": "code",
      "metadata": {
        "id": "R4XhGWITubq4"
      },
      "source": [
        "from sklearn.preprocessing import MinMaxScaler\r\n",
        "sc=MinMaxScaler(feature_range=(0,1))\r\n",
        "training_set_scale=sc.fit_transform(training_set)\r\n"
      ],
      "execution_count": 11,
      "outputs": []
    },
    {
      "cell_type": "markdown",
      "metadata": {
        "id": "6E2_h0t_1nym"
      },
      "source": [
        "**Creating Data Stucture for RNN**"
      ]
    },
    {
      "cell_type": "code",
      "metadata": {
        "id": "FvpuiwxY1ySi"
      },
      "source": [
        "x_train=[]\r\n",
        "y_train=[]\r\n",
        "for i in range(60,1258):\r\n",
        "  x_train.append(training_set[i-60:i,0])\r\n",
        "  y_train.append(training_set[i,0])\r\n",
        "x_train,y_train =np.array(x_train),np.array(y_train)  "
      ],
      "execution_count": 12,
      "outputs": []
    },
    {
      "cell_type": "code",
      "metadata": {
        "id": "chmvLHe5SCEi"
      },
      "source": [
        "x_train =np.reshape(x_train,(x_train.shape[0],x_train.shape[1],1))"
      ],
      "execution_count": 13,
      "outputs": []
    },
    {
      "cell_type": "code",
      "metadata": {
        "id": "0JG7ezstt8C-"
      },
      "source": [
        ""
      ],
      "execution_count": null,
      "outputs": []
    }
  ]
}