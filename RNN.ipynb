{
  "nbformat": 4,
  "nbformat_minor": 0,
  "metadata": {
    "colab": {
      "name": "Untitled4.ipynb",
      "provenance": [],
      "authorship_tag": "ABX9TyOE3aJ2kEy6Xerw+OwsOuZz",
      "include_colab_link": true
    },
    "kernelspec": {
      "name": "python3",
      "display_name": "Python 3"
    }
  },
  "cells": [
    {
      "cell_type": "markdown",
      "metadata": {
        "id": "view-in-github",
        "colab_type": "text"
      },
      "source": [
        "<a href=\"https://colab.research.google.com/github/ishancoderr/Neural-networks/blob/main/RNN.ipynb\" target=\"_parent\"><img src=\"https://colab.research.google.com/assets/colab-badge.svg\" alt=\"Open In Colab\"/></a>"
      ]
    },
    {
      "cell_type": "code",
      "metadata": {
        "id": "DfxMteteXzHL"
      },
      "source": [
        "\r\n",
        "import numpy as np\r\n",
        "import matplotlib.pyplot as plt\r\n",
        "import pandas as pd"
      ],
      "execution_count": 68,
      "outputs": []
    },
    {
      "cell_type": "code",
      "metadata": {
        "id": "ilkOxtzOYbkt"
      },
      "source": [
        "url='https://raw.githubusercontent.com/ishancoderr/Neural-networks/main/Google_Stock_Price_Train.csv'\r\n",
        "dataset_train=pd.read_csv(url)\r\n",
        "training_set=dataset_train.iloc[:,1:2].values\r\n"
      ],
      "execution_count": 69,
      "outputs": []
    },
    {
      "cell_type": "code",
      "metadata": {
        "id": "R4XhGWITubq4"
      },
      "source": [
        "from sklearn.preprocessing import MinMaxScaler\r\n",
        "sc=MinMaxScaler(feature_range=(0,1))\r\n",
        "training_set_scale=sc.fit_transform(training_set)\r\n"
      ],
      "execution_count": 70,
      "outputs": []
    },
    {
      "cell_type": "markdown",
      "metadata": {
        "id": "6E2_h0t_1nym"
      },
      "source": [
        "**Creating Data Stucture for RNN**"
      ]
    },
    {
      "cell_type": "code",
      "metadata": {
        "id": "FvpuiwxY1ySi"
      },
      "source": [
        "x_train=[]\r\n",
        "y_train=[]\r\n",
        "for i in range(60,1258):\r\n",
        "  x_train.append(training_set[i-60:i,0])\r\n",
        "  y_train.append(training_set[i,0])\r\n",
        "x_train,y_train =np.array(x_train),np.array(y_train)  "
      ],
      "execution_count": 71,
      "outputs": []
    },
    {
      "cell_type": "code",
      "metadata": {
        "id": "chmvLHe5SCEi"
      },
      "source": [
        "x_train =np.reshape(x_train,(x_train.shape[0],x_train.shape[1],1))"
      ],
      "execution_count": 72,
      "outputs": []
    },
    {
      "cell_type": "markdown",
      "metadata": {
        "id": "Of4Z8L7RL-Yq"
      },
      "source": [
        "**building the RNN**"
      ]
    },
    {
      "cell_type": "code",
      "metadata": {
        "id": "0JG7ezstt8C-"
      },
      "source": [
        "from keras.models import Sequential\r\n",
        "from keras.layers import Dense\r\n",
        "from keras.layers import LSTM\r\n",
        "from keras.layers import Dropout"
      ],
      "execution_count": 73,
      "outputs": []
    },
    {
      "cell_type": "code",
      "metadata": {
        "id": "hVNB-Fv2LbW7"
      },
      "source": [
        "regressor=Sequential()"
      ],
      "execution_count": 74,
      "outputs": []
    },
    {
      "cell_type": "markdown",
      "metadata": {
        "id": "lZzqKWv1Ndgy"
      },
      "source": [
        "**Adding the first LSTM layer and some Dropout regularisation**"
      ]
    },
    {
      "cell_type": "code",
      "metadata": {
        "id": "t8qYgPaTNwbq"
      },
      "source": [
        "regressor.add(LSTM(units= 50,return_sequences=True,input_shape =(x_train.shape[1],1)))\r\n",
        "regressor.add(Dropout(0.2))"
      ],
      "execution_count": 75,
      "outputs": []
    },
    {
      "cell_type": "code",
      "metadata": {
        "id": "xPjNOuHHQgST"
      },
      "source": [
        "regressor.add(LSTM(units=50,return_sequences=True))\r\n",
        "regressor.add(Dropout(0.2))"
      ],
      "execution_count": 76,
      "outputs": []
    },
    {
      "cell_type": "code",
      "metadata": {
        "id": "4Tq39YLcU3WJ"
      },
      "source": [
        "regressor.add(LSTM(units=50,return_sequences=True))\r\n",
        "regressor.add(Dropout(0.2))"
      ],
      "execution_count": 77,
      "outputs": []
    },
    {
      "cell_type": "code",
      "metadata": {
        "id": "0wsKhAByVF4L"
      },
      "source": [
        "regressor.add(LSTM(units=50))\r\n",
        "regressor.add(Dropout(0.2))"
      ],
      "execution_count": 78,
      "outputs": []
    },
    {
      "cell_type": "code",
      "metadata": {
        "id": "Lb5oXxdHynW8"
      },
      "source": [
        "regressor.add(Dense(units=1))"
      ],
      "execution_count": 79,
      "outputs": []
    },
    {
      "cell_type": "code",
      "metadata": {
        "id": "NMpTZtrwzUyT"
      },
      "source": [
        "regressor.compile(optimizer='adam',loss='mean_squared_error')"
      ],
      "execution_count": 80,
      "outputs": []
    },
    {
      "cell_type": "code",
      "metadata": {
        "colab": {
          "base_uri": "https://localhost:8080/"
        },
        "id": "w1pVdSbB1oz8",
        "outputId": "d01fc933-1e54-43e3-c433-d8c6d08c8fac"
      },
      "source": [
        "regressor.fit(x_train,y_train,epochs=100,batch_size=32)"
      ],
      "execution_count": 81,
      "outputs": [
        {
          "output_type": "stream",
          "text": [
            "Epoch 1/100\n",
            "38/38 [==============================] - 9s 99ms/step - loss: 311670.8790\n",
            "Epoch 2/100\n",
            "38/38 [==============================] - 4s 106ms/step - loss: 302400.2692\n",
            "Epoch 3/100\n",
            "38/38 [==============================] - 4s 104ms/step - loss: 304670.5817\n",
            "Epoch 4/100\n",
            "38/38 [==============================] - 4s 105ms/step - loss: 301871.7228\n",
            "Epoch 5/100\n",
            "38/38 [==============================] - 4s 104ms/step - loss: 292575.1426\n",
            "Epoch 6/100\n",
            "38/38 [==============================] - 4s 105ms/step - loss: 294472.2540\n",
            "Epoch 7/100\n",
            "38/38 [==============================] - 4s 107ms/step - loss: 301394.0633\n",
            "Epoch 8/100\n",
            "38/38 [==============================] - 4s 104ms/step - loss: 294280.4054\n",
            "Epoch 9/100\n",
            "38/38 [==============================] - 4s 105ms/step - loss: 296714.8341\n",
            "Epoch 10/100\n",
            "38/38 [==============================] - 4s 105ms/step - loss: 288704.3373\n",
            "Epoch 11/100\n",
            "38/38 [==============================] - 4s 105ms/step - loss: 292383.7292\n",
            "Epoch 12/100\n",
            "38/38 [==============================] - 4s 109ms/step - loss: 280068.8349\n",
            "Epoch 13/100\n",
            "38/38 [==============================] - 4s 110ms/step - loss: 283378.7127\n",
            "Epoch 14/100\n",
            "38/38 [==============================] - 4s 106ms/step - loss: 286796.7171\n",
            "Epoch 15/100\n",
            "38/38 [==============================] - 4s 105ms/step - loss: 281394.1843\n",
            "Epoch 16/100\n",
            "38/38 [==============================] - 4s 106ms/step - loss: 279273.8049\n",
            "Epoch 17/100\n",
            "38/38 [==============================] - 4s 107ms/step - loss: 277919.6354\n",
            "Epoch 18/100\n",
            "38/38 [==============================] - 4s 106ms/step - loss: 278157.9375\n",
            "Epoch 19/100\n",
            "38/38 [==============================] - 4s 106ms/step - loss: 267390.3806\n",
            "Epoch 20/100\n",
            "38/38 [==============================] - 4s 106ms/step - loss: 267042.0541\n",
            "Epoch 21/100\n",
            "38/38 [==============================] - 4s 108ms/step - loss: 268717.8101\n",
            "Epoch 22/100\n",
            "38/38 [==============================] - 4s 106ms/step - loss: 264463.8610\n",
            "Epoch 23/100\n",
            "38/38 [==============================] - 4s 108ms/step - loss: 269262.5897\n",
            "Epoch 24/100\n",
            "38/38 [==============================] - 4s 106ms/step - loss: 262878.7127\n",
            "Epoch 25/100\n",
            "38/38 [==============================] - 4s 106ms/step - loss: 262671.4912\n",
            "Epoch 26/100\n",
            "38/38 [==============================] - 4s 105ms/step - loss: 261913.2268\n",
            "Epoch 27/100\n",
            "38/38 [==============================] - 4s 106ms/step - loss: 256831.1366\n",
            "Epoch 28/100\n",
            "38/38 [==============================] - 4s 107ms/step - loss: 259395.9275\n",
            "Epoch 29/100\n",
            "38/38 [==============================] - 4s 107ms/step - loss: 257960.6042\n",
            "Epoch 30/100\n",
            "38/38 [==============================] - 4s 110ms/step - loss: 249464.1030\n",
            "Epoch 31/100\n",
            "38/38 [==============================] - 4s 105ms/step - loss: 253992.3550\n",
            "Epoch 32/100\n",
            "38/38 [==============================] - 4s 106ms/step - loss: 252924.0797\n",
            "Epoch 33/100\n",
            "38/38 [==============================] - 4s 106ms/step - loss: 245319.5497\n",
            "Epoch 34/100\n",
            "38/38 [==============================] - 4s 106ms/step - loss: 256053.8650\n",
            "Epoch 35/100\n",
            "38/38 [==============================] - 4s 107ms/step - loss: 242102.8574\n",
            "Epoch 36/100\n",
            "38/38 [==============================] - 4s 105ms/step - loss: 245316.2312\n",
            "Epoch 37/100\n",
            "38/38 [==============================] - 4s 108ms/step - loss: 243285.0721\n",
            "Epoch 38/100\n",
            "38/38 [==============================] - 4s 107ms/step - loss: 231681.8578\n",
            "Epoch 39/100\n",
            "38/38 [==============================] - 4s 106ms/step - loss: 238992.6915\n",
            "Epoch 40/100\n",
            "38/38 [==============================] - 4s 107ms/step - loss: 233037.7075\n",
            "Epoch 41/100\n",
            "38/38 [==============================] - 4s 107ms/step - loss: 237449.7364\n",
            "Epoch 42/100\n",
            "38/38 [==============================] - 4s 105ms/step - loss: 229376.3942\n",
            "Epoch 43/100\n",
            "38/38 [==============================] - 4s 107ms/step - loss: 230525.9920\n",
            "Epoch 44/100\n",
            "38/38 [==============================] - 4s 108ms/step - loss: 225860.5925\n",
            "Epoch 45/100\n",
            "38/38 [==============================] - 4s 106ms/step - loss: 228236.3466\n",
            "Epoch 46/100\n",
            "38/38 [==============================] - 4s 107ms/step - loss: 229042.4443\n",
            "Epoch 47/100\n",
            "38/38 [==============================] - 4s 106ms/step - loss: 219485.9335\n",
            "Epoch 48/100\n",
            "38/38 [==============================] - 4s 107ms/step - loss: 225388.2272\n",
            "Epoch 49/100\n",
            "38/38 [==============================] - 4s 106ms/step - loss: 218126.1883\n",
            "Epoch 50/100\n",
            "38/38 [==============================] - 4s 107ms/step - loss: 217948.4856\n",
            "Epoch 51/100\n",
            "38/38 [==============================] - 4s 107ms/step - loss: 218253.6903\n",
            "Epoch 52/100\n",
            "38/38 [==============================] - 4s 106ms/step - loss: 211868.3890\n",
            "Epoch 53/100\n",
            "38/38 [==============================] - 4s 107ms/step - loss: 216234.5865\n",
            "Epoch 54/100\n",
            "38/38 [==============================] - 4s 105ms/step - loss: 215226.7492\n",
            "Epoch 55/100\n",
            "38/38 [==============================] - 4s 107ms/step - loss: 207943.2548\n",
            "Epoch 56/100\n",
            "38/38 [==============================] - 4s 106ms/step - loss: 213462.3602\n",
            "Epoch 57/100\n",
            "38/38 [==============================] - 4s 106ms/step - loss: 208910.6310\n",
            "Epoch 58/100\n",
            "38/38 [==============================] - 4s 106ms/step - loss: 213102.1038\n",
            "Epoch 59/100\n",
            "38/38 [==============================] - 4s 107ms/step - loss: 199359.5517\n",
            "Epoch 60/100\n",
            "38/38 [==============================] - 4s 106ms/step - loss: 204742.2099\n",
            "Epoch 61/100\n",
            "38/38 [==============================] - 4s 107ms/step - loss: 199549.7752\n",
            "Epoch 62/100\n",
            "38/38 [==============================] - 4s 107ms/step - loss: 196247.5517\n",
            "Epoch 63/100\n",
            "38/38 [==============================] - 4s 105ms/step - loss: 195651.4667\n",
            "Epoch 64/100\n",
            "38/38 [==============================] - 4s 105ms/step - loss: 195808.0657\n",
            "Epoch 65/100\n",
            "38/38 [==============================] - 4s 108ms/step - loss: 199274.5321\n",
            "Epoch 66/100\n",
            "38/38 [==============================] - 4s 105ms/step - loss: 194446.1122\n",
            "Epoch 67/100\n",
            "38/38 [==============================] - 4s 106ms/step - loss: 200167.2316\n",
            "Epoch 68/100\n",
            "38/38 [==============================] - 4s 106ms/step - loss: 189559.7608\n",
            "Epoch 69/100\n",
            "38/38 [==============================] - 4s 107ms/step - loss: 190517.1667\n",
            "Epoch 70/100\n",
            "38/38 [==============================] - 4s 106ms/step - loss: 190816.8349\n",
            "Epoch 71/100\n",
            "38/38 [==============================] - 4s 109ms/step - loss: 184854.7131\n",
            "Epoch 72/100\n",
            "38/38 [==============================] - 4s 108ms/step - loss: 183364.9219\n",
            "Epoch 73/100\n",
            "38/38 [==============================] - 4s 107ms/step - loss: 185190.3197\n",
            "Epoch 74/100\n",
            "38/38 [==============================] - 4s 107ms/step - loss: 186095.0321\n",
            "Epoch 75/100\n",
            "38/38 [==============================] - 4s 105ms/step - loss: 173366.3397\n",
            "Epoch 76/100\n",
            "38/38 [==============================] - 4s 108ms/step - loss: 178552.9058\n",
            "Epoch 77/100\n",
            "38/38 [==============================] - 4s 106ms/step - loss: 179981.1198\n",
            "Epoch 78/100\n",
            "38/38 [==============================] - 4s 106ms/step - loss: 178415.2768\n",
            "Epoch 79/100\n",
            "38/38 [==============================] - 4s 106ms/step - loss: 180403.1743\n",
            "Epoch 80/100\n",
            "38/38 [==============================] - 4s 108ms/step - loss: 175761.1418\n",
            "Epoch 81/100\n",
            "38/38 [==============================] - 4s 107ms/step - loss: 172920.1655\n",
            "Epoch 82/100\n",
            "38/38 [==============================] - 4s 105ms/step - loss: 172596.5741\n",
            "Epoch 83/100\n",
            "38/38 [==============================] - 4s 107ms/step - loss: 171031.0938\n",
            "Epoch 84/100\n",
            "38/38 [==============================] - 4s 106ms/step - loss: 169733.6030\n",
            "Epoch 85/100\n",
            "38/38 [==============================] - 4s 106ms/step - loss: 169361.3285\n",
            "Epoch 86/100\n",
            "38/38 [==============================] - 4s 107ms/step - loss: 163451.6571\n",
            "Epoch 87/100\n",
            "38/38 [==============================] - 4s 107ms/step - loss: 160720.3013\n",
            "Epoch 88/100\n",
            "38/38 [==============================] - 4s 106ms/step - loss: 158220.8602\n",
            "Epoch 89/100\n",
            "38/38 [==============================] - 4s 107ms/step - loss: 166329.0982\n",
            "Epoch 90/100\n",
            "38/38 [==============================] - 4s 107ms/step - loss: 162812.1022\n",
            "Epoch 91/100\n",
            "38/38 [==============================] - 4s 107ms/step - loss: 162914.9527\n",
            "Epoch 92/100\n",
            "38/38 [==============================] - 4s 108ms/step - loss: 162197.4868\n",
            "Epoch 93/100\n",
            "38/38 [==============================] - 4s 108ms/step - loss: 152471.0381\n",
            "Epoch 94/100\n",
            "38/38 [==============================] - 4s 106ms/step - loss: 160294.0064\n",
            "Epoch 95/100\n",
            "38/38 [==============================] - 4s 107ms/step - loss: 153674.3570\n",
            "Epoch 96/100\n",
            "38/38 [==============================] - 4s 108ms/step - loss: 156406.6174\n",
            "Epoch 97/100\n",
            "38/38 [==============================] - 4s 106ms/step - loss: 154770.2420\n",
            "Epoch 98/100\n",
            "38/38 [==============================] - 4s 108ms/step - loss: 149286.0104\n",
            "Epoch 99/100\n",
            "38/38 [==============================] - 4s 108ms/step - loss: 150075.8946\n",
            "Epoch 100/100\n",
            "38/38 [==============================] - 4s 109ms/step - loss: 148043.6947\n"
          ],
          "name": "stdout"
        },
        {
          "output_type": "execute_result",
          "data": {
            "text/plain": [
              "<tensorflow.python.keras.callbacks.History at 0x7f2c1b38a710>"
            ]
          },
          "metadata": {
            "tags": []
          },
          "execution_count": 81
        }
      ]
    },
    {
      "cell_type": "code",
      "metadata": {
        "id": "9eCfilYl27gU"
      },
      "source": [
        "url1='https://raw.githubusercontent.com/ishancoderr/Neural-networks/main/Google_Stock_Price_Test.csv'\r\n",
        "dataset_test=pd.read_csv(url1)\r\n",
        "real_stock_price=dataset_test.iloc[:,1:2].values"
      ],
      "execution_count": 82,
      "outputs": []
    },
    {
      "cell_type": "code",
      "metadata": {
        "id": "46wY6k1C7sHb"
      },
      "source": [
        "dataset_total =pd.concat((dataset_train['Open'],dataset_test['Open']),axis = 0)\r\n",
        "inputs = dataset_total[len(dataset_total)-len(dataset_test)-60:].values\r\n",
        "inputs=inputs.reshape(-1,1)\r\n",
        "inputs=sc.transform(inputs)"
      ],
      "execution_count": 83,
      "outputs": []
    },
    {
      "cell_type": "code",
      "metadata": {
        "id": "Za_B9VwcOKdZ"
      },
      "source": [
        "x_test=[]\r\n",
        "y_test=[]\r\n",
        "for i in range(60,1258):\r\n",
        "  x_test.append(training_set[i-60:i,0])\r\n",
        "x_test=np.array(x_test)\r\n",
        "x_test=np.reshape(x_test,(x_test.shape[0],x_test.shape[1],1))\r\n",
        "predicted_stock_price=regressor.predict(x_test)\r\n",
        "predicted_stock_price=sc.inverse_transform(predicted_stock_price)"
      ],
      "execution_count": 84,
      "outputs": []
    },
    {
      "cell_type": "code",
      "metadata": {
        "colab": {
          "base_uri": "https://localhost:8080/",
          "height": 295
        },
        "id": "D4-Xp-SaRRkI",
        "outputId": "7a85396f-6823-42f1-e2e5-8ad410a22d61"
      },
      "source": [
        "plt.plot(real_stock_price,color='red',label='real stock price')\r\n",
        "plt.plot(predicted_stock_price,color='blue',label='predicted stock price')\r\n",
        "plt.title('Google stock price')\r\n",
        "plt.xlabel('Time')\r\n",
        "plt.ylabel('Google Stock price')\r\n",
        "plt.legend()\r\n",
        "plt.show()"
      ],
      "execution_count": 85,
      "outputs": [
        {
          "output_type": "display_data",
          "data": {
            "image/png": "[encoded data removed]",
            "text/plain": [
              "<Figure size 432x288 with 1 Axes>"
            ]
          },
          "metadata": {
            "tags": [],
            "needs_background": "light"
          }
        }
      ]
    }
  ]
}