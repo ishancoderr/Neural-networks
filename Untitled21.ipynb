{
  "nbformat": 4,
  "nbformat_minor": 0,
  "metadata": {
    "colab": {
      "name": "Untitled21.ipynb",
      "provenance": [],
      "collapsed_sections": [],
      "authorship_tag": "ABX9TyOeYUC+D7Qwsn7Siqp/fK5f",
      "include_colab_link": true
    },
    "kernelspec": {
      "name": "python3",
      "display_name": "Python 3"
    },
    "language_info": {
      "name": "python"
    }
  },
  "cells": [
    {
      "cell_type": "markdown",
      "metadata": {
        "id": "view-in-github",
        "colab_type": "text"
      },
      "source": [
        "<a href=\"https://colab.research.google.com/github/ishancoderr/Neural-networks/blob/main/Untitled21.ipynb\" target=\"_parent\"><img src=\"https://colab.research.google.com/assets/colab-badge.svg\" alt=\"Open In Colab\"/></a>"
      ]
    },
    {
      "cell_type": "markdown",
      "metadata": {
        "id": "8CEHLgNZPhom"
      },
      "source": [
        "**Dynamic array implementation**"
      ]
    },
    {
      "cell_type": "code",
      "metadata": {
        "id": "GJeGQdsTPqm7"
      },
      "source": [
        "class M(object):\n",
        "  def public(self):\n",
        "    print ('Use Tab to see me!')\n",
        "\n",
        "  def _private(self):\n",
        "    print (\"You won't be able to Tab to see me\")"
      ],
      "execution_count": null,
      "outputs": []
    },
    {
      "cell_type": "code",
      "metadata": {
        "colab": {
          "base_uri": "https://localhost:8080/"
        },
        "id": "F8jEy3urQlf1",
        "outputId": "666b86da-30ce-48e4-c4e3-c50ffaa272b6"
      },
      "source": [
        "m=M()\n",
        "m._private()"
      ],
      "execution_count": null,
      "outputs": [
        {
          "output_type": "stream",
          "text": [
            "You won't be able to Tab to see me\n"
          ],
          "name": "stdout"
        }
      ]
    },
    {
      "cell_type": "code",
      "metadata": {
        "id": "SNauKjQORBOe"
      },
      "source": [
        "import ctypes\n",
        "\n",
        "class DynamicArray(object):\n",
        "  def __init__(self):\n",
        "    self.n=0\n",
        "    self.capacity=1\n",
        "    self.A=self.make_array(self.capacity)\n",
        "\n",
        "  def __len__(self):\n",
        "    return self.n\n",
        "\n",
        "  def __getitem__(self,k):\n",
        "    if not 0<= k<self.n:\n",
        "      return IndexError('k is out of bounds')\n",
        "\n",
        "      return self.A[k]\n",
        "\n",
        "  def append(self,ele):\n",
        "    if self.n ==self.capacity:\n",
        "      self._resize(2*self.capacity)\n",
        "    self.A[self.n]=ele\n",
        "    self.n+=1\n",
        "\n",
        "  def _resize(self,new_cap):\n",
        "    B=self.make_array(new_cap)\n",
        "\n",
        "    for k in range(self.n):\n",
        "      B[k]=self.A[k]\n",
        "    self.A=B\n",
        "    self.capacity=new_cap\n",
        "  def make_array(self,new_cap):\n",
        "    return(new_cap*ctypes.py_object)()\n",
        "\n",
        "\n"
      ],
      "execution_count": null,
      "outputs": []
    },
    {
      "cell_type": "code",
      "metadata": {
        "id": "N_jfCq0RSy3k"
      },
      "source": [
        "arr=DynamicArray()"
      ],
      "execution_count": null,
      "outputs": []
    },
    {
      "cell_type": "code",
      "metadata": {
        "id": "4rNaz72dUj7c"
      },
      "source": [
        "arr.append(1)"
      ],
      "execution_count": null,
      "outputs": []
    },
    {
      "cell_type": "code",
      "metadata": {
        "colab": {
          "base_uri": "https://localhost:8080/"
        },
        "id": "sTpGfPt3UpC7",
        "outputId": "5c8f842a-e16c-41c6-8b25-ead31b5ddf07"
      },
      "source": [
        "len(arr)"
      ],
      "execution_count": null,
      "outputs": [
        {
          "output_type": "execute_result",
          "data": {
            "text/plain": [
              "1"
            ]
          },
          "metadata": {
            "tags": []
          },
          "execution_count": 12
        }
      ]
    },
    {
      "cell_type": "markdown",
      "metadata": {
        "id": "-lysbc00wYCd"
      },
      "source": [
        "**Array pair sum**"
      ]
    },
    {
      "cell_type": "code",
      "metadata": {
        "id": "dI8j8l6swiRu"
      },
      "source": [
        "def unic_pairs(arr,k):\n",
        "  if len(arr)<2:\n",
        "    return\n",
        "  seen=set()\n",
        " \n",
        "  output=set()\n",
        "  for num in arr:\n",
        "    target=k-num\n",
        "    print(target)\n",
        "    if target not in seen:\n",
        "      seen.add(num)\n",
        "      print(seen)\n",
        "    else:\n",
        "      output.add((min(num,target),max(num,target)))\n",
        "\n",
        "  print('\\n'.join(map(str,list(output))))\n",
        "\n",
        "\n",
        "\n",
        "\n"
      ],
      "execution_count": null,
      "outputs": []
    },
    {
      "cell_type": "code",
      "metadata": {
        "colab": {
          "base_uri": "https://localhost:8080/"
        },
        "id": "-o_SjCXa53k7",
        "outputId": "bc57e166-273a-4ce1-ce0b-a618c3d7fb29"
      },
      "source": [
        "\n",
        "unic_pairs([1,3,2,2], 4)"
      ],
      "execution_count": null,
      "outputs": [
        {
          "output_type": "stream",
          "text": [
            "set()\n",
            "3\n",
            "{1}\n",
            "1\n",
            "2\n",
            "{1, 2}\n",
            "2\n",
            "(1, 3)\n",
            "(2, 2)\n"
          ],
          "name": "stdout"
        }
      ]
    },
    {
      "cell_type": "markdown",
      "metadata": {
        "id": "Ra4z7y8AI7gL"
      },
      "source": [
        "**Find the missing element**"
      ]
    },
    {
      "cell_type": "code",
      "metadata": {
        "id": "xBvRYn9SJDPq"
      },
      "source": [
        "def finder(arr1,arr2):\n",
        "  arr1.sort()\n",
        "  arr2.sort()\n",
        "\n",
        "  for num1,num2 in zip(arr1,arr2):\n",
        "    if num1 != num2:\n",
        "      return num1\n",
        "\n",
        "  return arr[-1] "
      ],
      "execution_count": null,
      "outputs": []
    },
    {
      "cell_type": "code",
      "metadata": {
        "colab": {
          "base_uri": "https://localhost:8080/"
        },
        "id": "7uP3-kLnW4s7",
        "outputId": "41775545-8df7-4339-e6b3-d77736d4fbc2"
      },
      "source": [
        "arr1=[1,2,3,5,6,7]\n",
        "arr2=[1,4,5,7,2]\n",
        "finder(arr1,arr2)"
      ],
      "execution_count": null,
      "outputs": [
        {
          "output_type": "execute_result",
          "data": {
            "text/plain": [
              "3"
            ]
          },
          "metadata": {
            "tags": []
          },
          "execution_count": 97
        }
      ]
    },
    {
      "cell_type": "code",
      "metadata": {
        "id": "UoodmwoAX-lU"
      },
      "source": [
        "import collections"
      ],
      "execution_count": null,
      "outputs": []
    },
    {
      "cell_type": "code",
      "metadata": {
        "id": "M3UhCPWMZCIS"
      },
      "source": [
        "def finder2(arr1,arr2):\n",
        "  d=collections.defaultdict(int)\n",
        "  for num in arr2:\n",
        "    d[num]+=1\n",
        "  for num in arr1:\n",
        "    if d[num]==0:\n",
        "      return num\n",
        "    else:\n",
        "      d[num]-=1"
      ],
      "execution_count": null,
      "outputs": []
    },
    {
      "cell_type": "code",
      "metadata": {
        "colab": {
          "base_uri": "https://localhost:8080/"
        },
        "id": "Dp11uzLZghEn",
        "outputId": "73c4b8b7-3431-4b0c-8430-6e691aed3ee8"
      },
      "source": [
        "arr1=[1,2,3,5,6,7]\n",
        "arr2=[1,4,5,7,2]\n",
        "finder2(arr1,arr2)"
      ],
      "execution_count": null,
      "outputs": [
        {
          "output_type": "execute_result",
          "data": {
            "text/plain": [
              "3"
            ]
          },
          "metadata": {
            "tags": []
          },
          "execution_count": 100
        }
      ]
    },
    {
      "cell_type": "markdown",
      "metadata": {
        "id": "Heb7f78yhxJX"
      },
      "source": [
        "**Sentence Reversal**"
      ]
    },
    {
      "cell_type": "code",
      "metadata": {
        "id": "up-3u-gkh_ol"
      },
      "source": [
        "def rev_word(s):\n",
        "  return \" \".join(reversed(s.split()))\n",
        "\n",
        "def rev_word2(s):\n",
        "  return \" \".join(s.split()[::-1])\n"
      ],
      "execution_count": null,
      "outputs": []
    },
    {
      "cell_type": "code",
      "metadata": {
        "colab": {
          "base_uri": "https://localhost:8080/",
          "height": 35
        },
        "id": "Jdc0aYLljqW1",
        "outputId": "274e08e3-55e5-4b4f-d898-ec4750a0e513"
      },
      "source": [
        "rev_word2(\"my name is ishan\")"
      ],
      "execution_count": null,
      "outputs": [
        {
          "output_type": "execute_result",
          "data": {
            "application/vnd.google.colaboratory.intrinsic+json": {
              "type": "string"
            },
            "text/plain": [
              "'ishan is name my'"
            ]
          },
          "metadata": {
            "tags": []
          },
          "execution_count": 106
        }
      ]
    },
    {
      "cell_type": "code",
      "metadata": {
        "id": "wfeoGk8EkmfF"
      },
      "source": [
        "def rev_word3(s):\n",
        "  words=[]\n",
        "  length=len(s)\n",
        "  spaces=[' ']\n",
        "  i=0\n",
        "  while i<length:\n",
        "    if s[i] not in spaces:\n",
        "      word_start=i\n",
        "      while i<length and s[i] not in spaces:\n",
        "        i+=1\n",
        "      words.append(s[word_start:i])\n",
        "    i+=1\n",
        "  return \" \".join(reversed(words))\n"
      ],
      "execution_count": null,
      "outputs": []
    },
    {
      "cell_type": "code",
      "metadata": {
        "colab": {
          "base_uri": "https://localhost:8080/",
          "height": 35
        },
        "id": "NiXRLNllowyD",
        "outputId": "baf4fb3c-96ca-4db7-d071-c15b15ab468f"
      },
      "source": [
        "rev_word3(\"my name is ishan\")"
      ],
      "execution_count": null,
      "outputs": [
        {
          "output_type": "execute_result",
          "data": {
            "application/vnd.google.colaboratory.intrinsic+json": {
              "type": "string"
            },
            "text/plain": [
              "'ishan is name my'"
            ]
          },
          "metadata": {
            "tags": []
          },
          "execution_count": 112
        }
      ]
    },
    {
      "cell_type": "markdown",
      "metadata": {
        "id": "4uIt-Rlipgxp"
      },
      "source": [
        "**string compression**"
      ]
    },
    {
      "cell_type": "code",
      "metadata": {
        "id": "UQPaI1acpoxy"
      },
      "source": [
        "r=\"\"\n",
        "l=len(s)\n",
        "if l==0:\n",
        "  return \"\"\n",
        "if l==1:\n",
        "  return s+\"1\"\n",
        "\n"
      ],
      "execution_count": null,
      "outputs": []
    },
    {
      "cell_type": "code",
      "metadata": {
        "colab": {
          "base_uri": "https://localhost:8080/"
        },
        "id": "vPlvU1H1aIIv",
        "outputId": "72553fa5-adee-4cbe-d613-0f39b5beb250"
      },
      "source": [
        "#The original array\n",
        "arr = [11, 22, 33, 44, 55]\n",
        "print(\"Array is :\",arr)\n",
        " \n",
        "res = arr[::-1]\n",
        "print(\"Array is :\",res)"
      ],
      "execution_count": 1,
      "outputs": [
        {
          "output_type": "stream",
          "text": [
            "Array is : [11, 22, 33, 44, 55]\n",
            "Array is : [55, 44, 33, 22, 11]\n"
          ],
          "name": "stdout"
        }
      ]
    },
    {
      "cell_type": "code",
      "metadata": {
        "colab": {
          "base_uri": "https://localhost:8080/"
        },
        "id": "bc8z5uT1mA4i",
        "outputId": "19541782-2cda-4dfd-f3b4-dd2e10ad04cb"
      },
      "source": [
        "arr=[1,2,3,4,8,7,6]\n",
        "print(len(arr))\n",
        "for i in range(len(arr)):\n",
        "  print(i)"
      ],
      "execution_count": 6,
      "outputs": [
        {
          "output_type": "stream",
          "text": [
            "7\n",
            "0\n",
            "1\n",
            "2\n",
            "3\n",
            "4\n",
            "5\n",
            "6\n"
          ],
          "name": "stdout"
        }
      ]
    },
    {
      "cell_type": "code",
      "metadata": {
        "id": "83tBKL0Hgf8u"
      },
      "source": [
        "class BinHeap:\n",
        "  def __init__(self):\n",
        "    self.heapList=[0]\n",
        "    self.currentSize=0"
      ],
      "execution_count": 1,
      "outputs": []
    },
    {
      "cell_type": "code",
      "metadata": {
        "id": "iV9lA_p4inrn"
      },
      "source": [
        "def seq_search(arr,ele):\n",
        "  pos =0\n",
        "  found =False\n",
        "  while pos < len(arr) and not found:\n",
        "    if arr[pos] ==ele:\n",
        "      found=True\n",
        "    else:\n",
        "      pos += 1\n",
        "  return found"
      ],
      "execution_count": 2,
      "outputs": []
    },
    {
      "cell_type": "code",
      "metadata": {
        "colab": {
          "base_uri": "https://localhost:8080/"
        },
        "id": "kYPgelHh_JEv",
        "outputId": "3c83191c-866e-441a-a006-f609ee118d72"
      },
      "source": [
        "arr=[1,2,3,4,5]\n",
        "seq_search(arr,5)"
      ],
      "execution_count": 3,
      "outputs": [
        {
          "output_type": "execute_result",
          "data": {
            "text/plain": [
              "True"
            ]
          },
          "metadata": {
            "tags": []
          },
          "execution_count": 3
        }
      ]
    },
    {
      "cell_type": "code",
      "metadata": {
        "colab": {
          "base_uri": "https://localhost:8080/"
        },
        "id": "S8vM8nuHm16C",
        "outputId": "95731492-7eca-4da6-b9ff-cc165914c7b8"
      },
      "source": [
        "A=[]\n",
        "for v in range(10):\n",
        "  A.append(int(input('enter the number')))\n",
        "print(A)\n",
        "\n",
        "def insertSort(A):\n",
        "  for j in range(1,len(A)):\n",
        "    key=A[j]\n",
        "    22\n",
        "    i=j-1\n",
        "    while(i>=0 and A[i]>key):\n",
        "      A[i+1]=A[i]\n",
        "      i=i-1\n",
        "    A[i+1]=key\n",
        "\n",
        "insertSort(A)\n",
        "print('sorted array')\n",
        "print(A )"
      ],
      "execution_count": 8,
      "outputs": [
        {
          "output_type": "stream",
          "text": [
            "enter the number555\n",
            "enter the number90\n",
            "enter the number8\n",
            "enter the number77\n",
            "enter the number55\n",
            "enter the number33\n",
            "enter the number25\n",
            "enter the number112\n",
            "enter the number11\n",
            "enter the number13\n",
            "[555, 90, 8, 77, 55, 33, 25, 112, 11, 13]\n",
            "sorted array\n",
            "[8, 11, 13, 25, 33, 55, 77, 90, 112, 555]\n"
          ],
          "name": "stdout"
        }
      ]
    },
    {
      "cell_type": "code",
      "metadata": {
        "colab": {
          "base_uri": "https://localhost:8080/"
        },
        "id": "kDxfQQtLqXtv",
        "outputId": "3f003276-a5af-4780-8fe5-cff51d637ec4"
      },
      "source": [
        "A=[]\n",
        "for v in range(5):\n",
        "  A.append(int(input('enter the number')))\n",
        "print(A)\n",
        "p=0\n",
        "n=len(A)\n",
        "r=n-1\n",
        "def partition(A,p,r):\n",
        "  x=A[r]\n",
        "  i=p-1\n",
        "  for j in range(p,r):\n",
        "    if A[j]<=x:\n",
        "      i=i+1\n",
        "      temp1=A[i]\n",
        "      A[i]=A[j]\n",
        "      A[j]=temp1\n",
        "  temp2=A[i+1]\n",
        "  A[i+1]=A[r]\n",
        "  A[r]=temp2\n",
        "  return i+1\n",
        "\n",
        "def QuickSort(A,p,r):\n",
        "  if(p<=r):\n",
        "    q=partition(A,p,r)\n",
        "    QuickSort(A,p,q-1)\n",
        "    QuickSort(A,q+1,r)\n",
        "\n",
        "QuickSort(A,p,r)\n",
        "print(A)\n"
      ],
      "execution_count": 11,
      "outputs": [
        {
          "output_type": "stream",
          "text": [
            "enter the number1\n",
            "enter the number34\n",
            "enter the number45\n",
            "enter the number33\n",
            "enter the number45\n",
            "[1, 34, 45, 33, 45]\n",
            "[1, 33, 34, 45, 45]\n"
          ],
          "name": "stdout"
        }
      ]
    }
  ]
}