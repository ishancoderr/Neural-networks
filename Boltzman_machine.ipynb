{
  "nbformat": 4,
  "nbformat_minor": 0,
  "metadata": {
    "colab": {
      "name": "Untitled18.ipynb",
      "provenance": [],
      "collapsed_sections": [],
      "authorship_tag": "ABX9TyOqT0/ZUlHrcKYwU6ocIpO2",
      "include_colab_link": true
    },
    "kernelspec": {
      "name": "python3",
      "display_name": "Python 3"
    }
  },
  "cells": [
    {
      "cell_type": "markdown",
      "metadata": {
        "id": "view-in-github",
        "colab_type": "text"
      },
      "source": [
        "<a href=\"https://colab.research.google.com/github/ishancoderr/Neural-networks/blob/main/Boltzman_machine.ipynb\" target=\"_parent\"><img src=\"https://colab.research.google.com/assets/colab-badge.svg\" alt=\"Open In Colab\"/></a>"
      ]
    },
    {
      "cell_type": "code",
      "metadata": {
        "id": "nLleRKGjEhPD",
        "outputId": "c9ef1a27-84a0-430f-f396-c21104077a01",
        "colab": {
          "base_uri": "https://localhost:8080/"
        }
      },
      "source": [
        "!pip install -q torch==1.0.0 torchvision\r\n"
      ],
      "execution_count": 2,
      "outputs": [
        {
          "output_type": "stream",
          "text": [
            "\u001b[K     |████████████████████████████████| 591.8MB 27kB/s \n",
            "\u001b[31mERROR: torchvision 0.8.1+cu101 has requirement torch==1.7.0, but you'll have torch 1.0.0 which is incompatible.\u001b[0m\n",
            "\u001b[?25h"
          ],
          "name": "stdout"
        }
      ]
    },
    {
      "cell_type": "code",
      "metadata": {
        "colab": {
          "base_uri": "https://localhost:8080/"
        },
        "id": "bcjFCh_2FgyN",
        "outputId": "650dd967-ce65-411d-c209-1f18cf6cb034"
      },
      "source": [
        "import torch\r\n",
        "print(torch.__version__)"
      ],
      "execution_count": 11,
      "outputs": [
        {
          "output_type": "stream",
          "text": [
            "1.0.0\n"
          ],
          "name": "stdout"
        }
      ]
    },
    {
      "cell_type": "code",
      "metadata": {
        "colab": {
          "base_uri": "https://localhost:8080/"
        },
        "id": "tzHHCl3FGn1c",
        "outputId": "87fa54bf-0283-4016-ff0e-5a28a8047c02"
      },
      "source": [
        "!pip install torch"
      ],
      "execution_count": 12,
      "outputs": [
        {
          "output_type": "stream",
          "text": [
            "Requirement already satisfied: torch in /usr/local/lib/python3.6/dist-packages (1.0.0)\n"
          ],
          "name": "stdout"
        }
      ]
    },
    {
      "cell_type": "code",
      "metadata": {
        "id": "zkj4uBfRGwaz"
      },
      "source": [
        "import numpy as np\r\n",
        "import pandas as pd\r\n"
      ],
      "execution_count": 46,
      "outputs": []
    },
    {
      "cell_type": "code",
      "metadata": {
        "id": "Mr1TKuy3G4A0"
      },
      "source": [
        "import torch\r\n",
        "import torch.nn as nn\r\n",
        "import torch.nn.parallel\r\n",
        "import torch.optim as optim\r\n",
        "import torch.utils.data\r\n",
        "from torch.autograd import Variable\r\n"
      ],
      "execution_count": 47,
      "outputs": []
    },
    {
      "cell_type": "code",
      "metadata": {
        "id": "bzMR3-SFH7f7"
      },
      "source": [
        "url=\"https://raw.githubusercontent.com/ishancoderr/Neural-networks/main/movies.dat\"\r\n",
        "url2=\"https://raw.githubusercontent.com/ishancoderr/Neural-networks/main/users.dat\"\r\n",
        "url3=\"https://raw.githubusercontent.com/ishancoderr/Neural-networks/main/ratings.dat\"\r\n",
        "movies=pd.read_csv(url,sep='::',header=None,engine='python',encoding='latin-1')\r\n",
        "users=pd.read_csv(url2,sep='::',header=None,engine='python',encoding='latin-1')\r\n",
        "ratings=pd.read_csv(url3,sep='::',header=None,engine='python',encoding='latin-1')"
      ],
      "execution_count": 48,
      "outputs": []
    },
    {
      "cell_type": "code",
      "metadata": {
        "id": "8ubW8N1K7NRm"
      },
      "source": [
        "url4=\"https://raw.githubusercontent.com/ishancoderr/Neural-networks/main/u1.base\"\r\n",
        "training_set =pd.read_csv(url4,delimiter='\\t')\r\n",
        "training_set=np.array(training_set,dtype='int')\r\n",
        "test_set=pd.read_csv(url4,delimiter='\\t')\r\n",
        "test_set=np.array(test_set,dtype='int')"
      ],
      "execution_count": 49,
      "outputs": []
    },
    {
      "cell_type": "markdown",
      "metadata": {
        "id": "Q4-ivMxZ7AZD"
      },
      "source": [
        "**Getting the number of users and movies**"
      ]
    },
    {
      "cell_type": "code",
      "metadata": {
        "id": "d_Et5oKe7L1L"
      },
      "source": [
        "nb_users = int(max(max(training_set[:, 0], ), max(test_set[:, 0])))\r\n",
        "nb_movies = int(max(max(training_set[:, 1], ), max(test_set[:, 1])))"
      ],
      "execution_count": 50,
      "outputs": []
    },
    {
      "cell_type": "code",
      "metadata": {
        "id": "S30EI-4pKQfG"
      },
      "source": [
        "def convert(data):\r\n",
        "  new_data = []\r\n",
        "  for id_users in range(1, nb_users + 1):\r\n",
        "    id_movies = data[:, 1] [data[:, 0] == id_users]\r\n",
        "    id_ratings = data[:, 2] [data[:, 0] == id_users]\r\n",
        "    ratings = np.zeros(nb_movies)\r\n",
        "    ratings[id_movies - 1] = id_ratings\r\n",
        "    new_data.append(list(ratings))\r\n",
        "  return new_data\r\n",
        "training_set = convert(training_set)\r\n",
        "test_set = convert(test_set)\r\n",
        "\r\n"
      ],
      "execution_count": 51,
      "outputs": []
    },
    {
      "cell_type": "code",
      "metadata": {
        "id": "upoRH2f-d3q6"
      },
      "source": [
        "training_set = torch.FloatTensor(training_set)\r\n",
        "test_set = torch.FloatTensor(test_set)"
      ],
      "execution_count": 52,
      "outputs": []
    },
    {
      "cell_type": "code",
      "metadata": {
        "id": "lv9zh-NWflH4"
      },
      "source": [
        "training_set[training_set == 0] = -1\r\n",
        "training_set[training_set == 1] = 0\r\n",
        "training_set[training_set == 2] = 0\r\n",
        "training_set[training_set >= 3] = 1\r\n",
        "test_set[test_set == 0] = -1\r\n",
        "test_set[test_set == 1] = 0\r\n",
        "test_set[test_set == 2] = 0\r\n",
        "test_set[test_set >= 3] = 1"
      ],
      "execution_count": 53,
      "outputs": []
    },
    {
      "cell_type": "code",
      "metadata": {
        "id": "7_A67MUxsgtS"
      },
      "source": [
        "class RBM():\r\n",
        "  def __init__(self, nv, nh):\r\n",
        "    self.W = torch.randn(nh, nv)\r\n",
        "    self.a = torch.randn(1, nh)\r\n",
        "    self.b = torch.randn(1, nv)\r\n",
        "  def sample_h(self, x):\r\n",
        "    wx = torch.mm(x, self.W.t())\r\n",
        "    activation = wx + self.a.expand_as(wx)\r\n",
        "    p_h_given_v = torch.sigmoid(activation)\r\n",
        "    return p_h_given_v, torch.bernoulli(p_h_given_v)\r\n",
        "  def sample_v(self, y):\r\n",
        "    wy = torch.mm(y, self.W)\r\n",
        "    activation = wy + self.b.expand_as(wy)\r\n",
        "    p_v_given_h = torch.sigmoid(activation)\r\n",
        "    return p_v_given_h, torch.bernoulli(p_v_given_h)\r\n",
        "  def train(self, v0, vk, ph0, phk):\r\n",
        "    self.W += (torch.mm(v0.t(), ph0) - torch.mm(vk.t(), phk)).t()\r\n",
        "    self.b += torch.sum((v0 - vk), 0)\r\n",
        "    self.a += torch.sum((ph0 - phk), 0)\r\n",
        "nv = len(training_set[0])\r\n",
        "nh = 100\r\n",
        "batch_size = 100\r\n",
        "rbm = RBM(nv, nh)"
      ],
      "execution_count": 54,
      "outputs": []
    },
    {
      "cell_type": "markdown",
      "metadata": {
        "id": "RLudd2HFosQe"
      },
      "source": [
        "**Training the RBM**"
      ]
    },
    {
      "cell_type": "code",
      "metadata": {
        "id": "nxia8PVMskIQ"
      },
      "source": [
        "nb_epoch=10\r\n",
        "for epoch in range(1,nb_epoch+1):\r\n",
        "  train_loss =0\r\n",
        "  s=0.\r\n",
        "  for id_user in range(0,nb_users-batch_size):\r\n",
        "    vk = training_set[id_user : id_user + batch_size]\r\n",
        "    v0 = training_set[id_user : id_user + batch_size]\r\n",
        "    ph0,_ = rbm.sample_h(v0)\r\n",
        "    for k in range(10):\r\n",
        "      _,hk=rbm.sample_h(vk)\r\n",
        "      _,vk=rbm.sample_v(hk)\r\n",
        "      vk[v0<0] = v0[v0<0]\r\n",
        "    phk,_ = rbm.sample_h(vk)\r\n",
        "    rbm.train(v0, vk, ph0, phk)\r\n",
        "    train_loss += torch.mean(torch.abs(v0[v0 >= 0] - vk[v0 >= 0]))\r\n",
        "    s += 1.\r\n",
        "  print('epoch: '+str(epoch)+' loss: '+str(train_loss/s))\r\n"
      ],
      "execution_count": null,
      "outputs": []
    },
    {
      "cell_type": "code",
      "metadata": {
        "id": "h5QZSVW1zN1G"
      },
      "source": [
        ""
      ],
      "execution_count": null,
      "outputs": []
    }
  ]
}