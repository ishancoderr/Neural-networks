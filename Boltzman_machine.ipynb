{
  "nbformat": 4,
  "nbformat_minor": 0,
  "metadata": {
    "colab": {
      "name": "Untitled18.ipynb",
      "provenance": [],
      "collapsed_sections": [],
      "authorship_tag": "ABX9TyPjq5MuUr0zOpKB+q6XshK1",
      "include_colab_link": true
    },
    "kernelspec": {
      "name": "python3",
      "display_name": "Python 3"
    }
  },
  "cells": [
    {
      "cell_type": "markdown",
      "metadata": {
        "id": "view-in-github",
        "colab_type": "text"
      },
      "source": [
        "<a href=\"https://colab.research.google.com/github/ishancoderr/Neural-networks/blob/main/Boltzman_machine.ipynb\" target=\"_parent\"><img src=\"https://colab.research.google.com/assets/colab-badge.svg\" alt=\"Open In Colab\"/></a>"
      ]
    },
    {
      "cell_type": "code",
      "metadata": {
        "colab": {
          "base_uri": "https://localhost:8080/"
        },
        "id": "nLleRKGjEhPD",
        "outputId": "30c74e76-f0e0-416a-ac7e-05d22e0ad392"
      },
      "source": [
        "!pip install -q torch==1.0.0 torchvision\r\n"
      ],
      "execution_count": 1,
      "outputs": [
        {
          "output_type": "stream",
          "text": [
            "\u001b[K     |████████████████████████████████| 591.8MB 29kB/s \n",
            "\u001b[31mERROR: torchvision 0.8.1+cu101 has requirement torch==1.7.0, but you'll have torch 1.0.0 which is incompatible.\u001b[0m\n",
            "\u001b[?25h"
          ],
          "name": "stdout"
        }
      ]
    },
    {
      "cell_type": "code",
      "metadata": {
        "colab": {
          "base_uri": "https://localhost:8080/"
        },
        "id": "bcjFCh_2FgyN",
        "outputId": "5c495064-9ec6-4c1c-b21b-1a8381eeae44"
      },
      "source": [
        "import torch\r\n",
        "print(torch.__version__)"
      ],
      "execution_count": 2,
      "outputs": [
        {
          "output_type": "stream",
          "text": [
            "1.0.0\n"
          ],
          "name": "stdout"
        }
      ]
    },
    {
      "cell_type": "code",
      "metadata": {
        "colab": {
          "base_uri": "https://localhost:8080/"
        },
        "id": "tzHHCl3FGn1c",
        "outputId": "6299ae6e-b11d-4c9b-a116-44854f5ac500"
      },
      "source": [
        "!pip install torch"
      ],
      "execution_count": 3,
      "outputs": [
        {
          "output_type": "stream",
          "text": [
            "Requirement already satisfied: torch in /usr/local/lib/python3.6/dist-packages (1.0.0)\n"
          ],
          "name": "stdout"
        }
      ]
    },
    {
      "cell_type": "code",
      "metadata": {
        "id": "zkj4uBfRGwaz"
      },
      "source": [
        "import numpy as np\r\n",
        "import pandas as pd\r\n"
      ],
      "execution_count": 4,
      "outputs": []
    },
    {
      "cell_type": "code",
      "metadata": {
        "id": "Mr1TKuy3G4A0"
      },
      "source": [
        "import torch\r\n",
        "import torch.nn as nn\r\n",
        "import torch.nn.parallel\r\n",
        "import torch.optim as optim\r\n",
        "import torch.utils.data\r\n",
        "from torch.autograd import Variable\r\n"
      ],
      "execution_count": 5,
      "outputs": []
    },
    {
      "cell_type": "code",
      "metadata": {
        "id": "bzMR3-SFH7f7"
      },
      "source": [
        "url=\"https://raw.githubusercontent.com/ishancoderr/Neural-networks/main/movies.dat\"\r\n",
        "url2=\"https://raw.githubusercontent.com/ishancoderr/Neural-networks/main/users.dat\"\r\n",
        "url3=\"https://raw.githubusercontent.com/ishancoderr/Neural-networks/main/ratings.dat\"\r\n",
        "movies=pd.read_csv(url,sep='::',header=None,engine='python',encoding='latin-1')\r\n",
        "users=pd.read_csv(url2,sep='::',header=None,engine='python',encoding='latin-1')\r\n",
        "ratings=pd.read_csv(url3,sep='::',header=None,engine='python',encoding='latin-1')"
      ],
      "execution_count": 9,
      "outputs": []
    },
    {
      "cell_type": "code",
      "metadata": {
        "id": "8ubW8N1K7NRm"
      },
      "source": [
        "trining_set =pd.read_csv('')"
      ],
      "execution_count": 9,
      "outputs": []
    },
    {
      "cell_type": "code",
      "metadata": {
        "id": "-ii3nnr77m69"
      },
      "source": [
        ""
      ],
      "execution_count": null,
      "outputs": []
    }
  ]
}