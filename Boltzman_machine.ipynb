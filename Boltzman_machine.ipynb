{
  "nbformat": 4,
  "nbformat_minor": 0,
  "metadata": {
    "colab": {
      "name": "Untitled18.ipynb",
      "provenance": [],
      "collapsed_sections": [],
      "authorship_tag": "ABX9TyMiKZrFiv0/A5T5X9VENj44",
      "include_colab_link": true
    },
    "kernelspec": {
      "name": "python3",
      "display_name": "Python 3"
    }
  },
  "cells": [
    {
      "cell_type": "markdown",
      "metadata": {
        "id": "view-in-github",
        "colab_type": "text"
      },
      "source": [
        "<a href=\"https://colab.research.google.com/github/ishancoderr/Neural-networks/blob/main/Boltzman_machine.ipynb\" target=\"_parent\"><img src=\"https://colab.research.google.com/assets/colab-badge.svg\" alt=\"Open In Colab\"/></a>"
      ]
    },
    {
      "cell_type": "code",
      "metadata": {
        "id": "nLleRKGjEhPD"
      },
      "source": [
        "!pip install -q torch==1.0.0 torchvision\r\n"
      ],
      "execution_count": 77,
      "outputs": []
    },
    {
      "cell_type": "code",
      "metadata": {
        "colab": {
          "base_uri": "https://localhost:8080/"
        },
        "id": "bcjFCh_2FgyN",
        "outputId": "67ee8ea0-094f-4cb0-b2ba-7ad5c1827cf1"
      },
      "source": [
        "import torch\r\n",
        "print(torch.__version__)"
      ],
      "execution_count": 78,
      "outputs": [
        {
          "output_type": "stream",
          "text": [
            "1.0.0\n"
          ],
          "name": "stdout"
        }
      ]
    },
    {
      "cell_type": "code",
      "metadata": {
        "colab": {
          "base_uri": "https://localhost:8080/"
        },
        "id": "tzHHCl3FGn1c",
        "outputId": "9301b1a0-bd56-4162-b61b-d8bd94d2386c"
      },
      "source": [
        "!pip install torch"
      ],
      "execution_count": 79,
      "outputs": [
        {
          "output_type": "stream",
          "text": [
            "Requirement already satisfied: torch in /usr/local/lib/python3.6/dist-packages (1.0.0)\n"
          ],
          "name": "stdout"
        }
      ]
    },
    {
      "cell_type": "code",
      "metadata": {
        "id": "zkj4uBfRGwaz"
      },
      "source": [
        "import numpy as np\r\n",
        "import pandas as pd\r\n"
      ],
      "execution_count": 81,
      "outputs": []
    },
    {
      "cell_type": "code",
      "metadata": {
        "id": "Mr1TKuy3G4A0"
      },
      "source": [
        "import torch\r\n",
        "import torch.nn as nn\r\n",
        "import torch.nn.parallel\r\n",
        "import torch.optim as optim\r\n",
        "import torch.utils.data\r\n",
        "from torch.autograd import Variable\r\n"
      ],
      "execution_count": 82,
      "outputs": []
    },
    {
      "cell_type": "code",
      "metadata": {
        "id": "bzMR3-SFH7f7"
      },
      "source": [
        "url=\"https://raw.githubusercontent.com/ishancoderr/Neural-networks/main/movies.dat\"\r\n",
        "url2=\"https://raw.githubusercontent.com/ishancoderr/Neural-networks/main/users.dat\"\r\n",
        "url3=\"https://raw.githubusercontent.com/ishancoderr/Neural-networks/main/ratings.dat\"\r\n",
        "movies=pd.read_csv(url,sep='::',header=None,engine='python',encoding='latin-1')\r\n",
        "users=pd.read_csv(url2,sep='::',header=None,engine='python',encoding='latin-1')\r\n",
        "ratings=pd.read_csv(url3,sep='::',header=None,engine='python',encoding='latin-1')"
      ],
      "execution_count": 83,
      "outputs": []
    },
    {
      "cell_type": "code",
      "metadata": {
        "id": "8ubW8N1K7NRm"
      },
      "source": [
        "url4=\"https://raw.githubusercontent.com/ishancoderr/Neural-networks/main/u1.base\"\r\n",
        "trining_set =pd.read_csv(url4,delimiter='\\t')\r\n",
        "trining_set=np.array(trining_set,dtype='int')\r\n",
        "test_set=pd.read_csv(url4,delimiter='\\t')\r\n",
        "test_set=np.array(test_set,dtype='int')"
      ],
      "execution_count": 84,
      "outputs": []
    },
    {
      "cell_type": "markdown",
      "metadata": {
        "id": "Q4-ivMxZ7AZD"
      },
      "source": [
        "**Getting the number of users and movies**"
      ]
    },
    {
      "cell_type": "code",
      "metadata": {
        "id": "d_Et5oKe7L1L"
      },
      "source": [
        "nb_users=int(max(max(trining_set[:,0]),max(test_set[:,0])))\r\n",
        "nb_movies=int(max(max(trining_set[:,1]),max(test_set[:,1])))"
      ],
      "execution_count": 85,
      "outputs": []
    },
    {
      "cell_type": "code",
      "metadata": {
        "id": "S30EI-4pKQfG"
      },
      "source": [
        "def convert(data):\r\n",
        "  new_data =[]\r\n",
        "  for id_users in range(1,nb_users + 1):\r\n",
        "    id_movies=data[:,1][data[:,0]==id_users]\r\n",
        "    id_ratings=data[:,1][data[:,0]==id_users]\r\n",
        "    ratings=np.zeros(nb_movies)\r\n",
        "    ratings[id_movies-1]=id_ratings\r\n",
        "    new_data.append(ratings)\r\n",
        "  return new_data\r\n",
        "trining_set=convert(trining_set)\r\n",
        "test_set=convert(test_set)  \r\n",
        "\r\n"
      ],
      "execution_count": 86,
      "outputs": []
    },
    {
      "cell_type": "code",
      "metadata": {
        "id": "upoRH2f-d3q6"
      },
      "source": [
        "trining_set = torch.FloatTensor(trining_set)\r\n",
        "test_set = torch.FloatTensor(test_set)"
      ],
      "execution_count": 87,
      "outputs": []
    },
    {
      "cell_type": "code",
      "metadata": {
        "id": "lv9zh-NWflH4"
      },
      "source": [
        "trining_set[trining_set==0]=-1\r\n",
        "trining_set[trining_set==1]=0\r\n",
        "trining_set[trining_set==2]=0\r\n",
        "trining_set[trining_set>=3]=1\r\n",
        "test_set[test_set==0]=-1\r\n",
        "test_set[test_set==1]=0\r\n",
        "test_set[test_set==2]=0\r\n",
        "test_set[test_set>=3]=1"
      ],
      "execution_count": 88,
      "outputs": []
    },
    {
      "cell_type": "code",
      "metadata": {
        "id": "7_A67MUxsgtS"
      },
      "source": [
        "class RBM():\r\n",
        "  def __init__(self,nv,nh):\r\n",
        "    self.W = torch.randn(nh,nv)\r\n",
        "    self.a = torch.random(1,nh)\r\n",
        "    self.b = torch.random(1,nv)\r\n",
        "  def sample_h(self, x):\r\n",
        "    wx = torch.mm(x,self.W.t())\r\n",
        "    activation =wx+self.a.expand_as(wx)\r\n",
        "    p_h_given_v =torch.sigmoid(activation)\r\n",
        "    return p_h_given_v,torch.bernoulli(p_h_given_v)\r\n",
        "  def sample_v(self,x):\r\n",
        "    wx = torch.mm(x,self.W.t())\r\n",
        "    activation= wx+ self.a.expand_as(wx)\r\n",
        "    p_v_given_h = torch.sigmoid(activation)\r\n",
        "    return p_v_given_h,torch.bernoulli(p_v_given_h)\r\n",
        "  def train(self,v0,vk,ph0,phk):\r\n",
        "    self.w+=torch.mm(v0.t(),ph0)-torch.mm(vk.t(),phk)\r\n",
        "    self.b+"
      ],
      "execution_count": 92,
      "outputs": []
    },
    {
      "cell_type": "code",
      "metadata": {
        "id": "7z7D0xwOtgZ2"
      },
      "source": [
        ""
      ],
      "execution_count": null,
      "outputs": []
    }
  ]
}